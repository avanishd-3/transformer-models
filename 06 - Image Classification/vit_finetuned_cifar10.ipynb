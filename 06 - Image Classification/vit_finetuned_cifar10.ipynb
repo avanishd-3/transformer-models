{
  "nbformat": 4,
  "nbformat_minor": 0,
  "metadata": {
    "colab": {
      "provenance": [],
      "toc_visible": true,
      "gpuType": "T4"
    },
    "kernelspec": {
      "name": "python3",
      "display_name": "Python 3"
    },
    "language_info": {
      "name": "python"
    },
    "accelerator": "GPU"
  },
  "cells": [
    {
      "cell_type": "markdown",
      "source": [
        "Finetune ViT on CIFAR-10"
      ],
      "metadata": {
        "id": "SYVsvEv1MfwY"
      }
    },
    {
      "cell_type": "markdown",
      "source": [
        "# Necessary Libraries"
      ],
      "metadata": {
        "id": "d6g9KqX8NNmI"
      }
    },
    {
      "cell_type": "code",
      "source": [
        "%pip install datasets evaluate"
      ],
      "metadata": {
        "colab": {
          "base_uri": "https://localhost:8080/"
        },
        "id": "4yt3I9_iNPu1",
        "outputId": "6a31e337-d749-483b-f949-2b8ee1d683e9"
      },
      "execution_count": 1,
      "outputs": [
        {
          "output_type": "stream",
          "name": "stdout",
          "text": [
            "Collecting datasets\n",
            "  Downloading datasets-3.5.0-py3-none-any.whl.metadata (19 kB)\n",
            "Collecting evaluate\n",
            "  Downloading evaluate-0.4.3-py3-none-any.whl.metadata (9.2 kB)\n",
            "Requirement already satisfied: filelock in /usr/local/lib/python3.11/dist-packages (from datasets) (3.18.0)\n",
            "Requirement already satisfied: numpy>=1.17 in /usr/local/lib/python3.11/dist-packages (from datasets) (2.0.2)\n",
            "Requirement already satisfied: pyarrow>=15.0.0 in /usr/local/lib/python3.11/dist-packages (from datasets) (18.1.0)\n",
            "Collecting dill<0.3.9,>=0.3.0 (from datasets)\n",
            "  Downloading dill-0.3.8-py3-none-any.whl.metadata (10 kB)\n",
            "Requirement already satisfied: pandas in /usr/local/lib/python3.11/dist-packages (from datasets) (2.2.2)\n",
            "Requirement already satisfied: requests>=2.32.2 in /usr/local/lib/python3.11/dist-packages (from datasets) (2.32.3)\n",
            "Requirement already satisfied: tqdm>=4.66.3 in /usr/local/lib/python3.11/dist-packages (from datasets) (4.67.1)\n",
            "Collecting xxhash (from datasets)\n",
            "  Downloading xxhash-3.5.0-cp311-cp311-manylinux_2_17_x86_64.manylinux2014_x86_64.whl.metadata (12 kB)\n",
            "Collecting multiprocess<0.70.17 (from datasets)\n",
            "  Downloading multiprocess-0.70.16-py311-none-any.whl.metadata (7.2 kB)\n",
            "Collecting fsspec<=2024.12.0,>=2023.1.0 (from fsspec[http]<=2024.12.0,>=2023.1.0->datasets)\n",
            "  Downloading fsspec-2024.12.0-py3-none-any.whl.metadata (11 kB)\n",
            "Requirement already satisfied: aiohttp in /usr/local/lib/python3.11/dist-packages (from datasets) (3.11.15)\n",
            "Requirement already satisfied: huggingface-hub>=0.24.0 in /usr/local/lib/python3.11/dist-packages (from datasets) (0.30.2)\n",
            "Requirement already satisfied: packaging in /usr/local/lib/python3.11/dist-packages (from datasets) (24.2)\n",
            "Requirement already satisfied: pyyaml>=5.1 in /usr/local/lib/python3.11/dist-packages (from datasets) (6.0.2)\n",
            "Requirement already satisfied: aiohappyeyeballs>=2.3.0 in /usr/local/lib/python3.11/dist-packages (from aiohttp->datasets) (2.6.1)\n",
            "Requirement already satisfied: aiosignal>=1.1.2 in /usr/local/lib/python3.11/dist-packages (from aiohttp->datasets) (1.3.2)\n",
            "Requirement already satisfied: attrs>=17.3.0 in /usr/local/lib/python3.11/dist-packages (from aiohttp->datasets) (25.3.0)\n",
            "Requirement already satisfied: frozenlist>=1.1.1 in /usr/local/lib/python3.11/dist-packages (from aiohttp->datasets) (1.5.0)\n",
            "Requirement already satisfied: multidict<7.0,>=4.5 in /usr/local/lib/python3.11/dist-packages (from aiohttp->datasets) (6.4.3)\n",
            "Requirement already satisfied: propcache>=0.2.0 in /usr/local/lib/python3.11/dist-packages (from aiohttp->datasets) (0.3.1)\n",
            "Requirement already satisfied: yarl<2.0,>=1.17.0 in /usr/local/lib/python3.11/dist-packages (from aiohttp->datasets) (1.19.0)\n",
            "Requirement already satisfied: typing-extensions>=3.7.4.3 in /usr/local/lib/python3.11/dist-packages (from huggingface-hub>=0.24.0->datasets) (4.13.2)\n",
            "Requirement already satisfied: charset-normalizer<4,>=2 in /usr/local/lib/python3.11/dist-packages (from requests>=2.32.2->datasets) (3.4.1)\n",
            "Requirement already satisfied: idna<4,>=2.5 in /usr/local/lib/python3.11/dist-packages (from requests>=2.32.2->datasets) (3.10)\n",
            "Requirement already satisfied: urllib3<3,>=1.21.1 in /usr/local/lib/python3.11/dist-packages (from requests>=2.32.2->datasets) (2.3.0)\n",
            "Requirement already satisfied: certifi>=2017.4.17 in /usr/local/lib/python3.11/dist-packages (from requests>=2.32.2->datasets) (2025.1.31)\n",
            "Requirement already satisfied: python-dateutil>=2.8.2 in /usr/local/lib/python3.11/dist-packages (from pandas->datasets) (2.8.2)\n",
            "Requirement already satisfied: pytz>=2020.1 in /usr/local/lib/python3.11/dist-packages (from pandas->datasets) (2025.2)\n",
            "Requirement already satisfied: tzdata>=2022.7 in /usr/local/lib/python3.11/dist-packages (from pandas->datasets) (2025.2)\n",
            "Requirement already satisfied: six>=1.5 in /usr/local/lib/python3.11/dist-packages (from python-dateutil>=2.8.2->pandas->datasets) (1.17.0)\n",
            "Downloading datasets-3.5.0-py3-none-any.whl (491 kB)\n",
            "\u001b[2K   \u001b[90m━━━━━━━━━━━━━━━━━━━━━━━━━━━━━━━━━━━━━━━━\u001b[0m \u001b[32m491.2/491.2 kB\u001b[0m \u001b[31m37.2 MB/s\u001b[0m eta \u001b[36m0:00:00\u001b[0m\n",
            "\u001b[?25hDownloading evaluate-0.4.3-py3-none-any.whl (84 kB)\n",
            "\u001b[2K   \u001b[90m━━━━━━━━━━━━━━━━━━━━━━━━━━━━━━━━━━━━━━━━\u001b[0m \u001b[32m84.0/84.0 kB\u001b[0m \u001b[31m9.0 MB/s\u001b[0m eta \u001b[36m0:00:00\u001b[0m\n",
            "\u001b[?25hDownloading dill-0.3.8-py3-none-any.whl (116 kB)\n",
            "\u001b[2K   \u001b[90m━━━━━━━━━━━━━━━━━━━━━━━━━━━━━━━━━━━━━━━━\u001b[0m \u001b[32m116.3/116.3 kB\u001b[0m \u001b[31m12.6 MB/s\u001b[0m eta \u001b[36m0:00:00\u001b[0m\n",
            "\u001b[?25hDownloading fsspec-2024.12.0-py3-none-any.whl (183 kB)\n",
            "\u001b[2K   \u001b[90m━━━━━━━━━━━━━━━━━━━━━━━━━━━━━━━━━━━━━━━━\u001b[0m \u001b[32m183.9/183.9 kB\u001b[0m \u001b[31m18.2 MB/s\u001b[0m eta \u001b[36m0:00:00\u001b[0m\n",
            "\u001b[?25hDownloading multiprocess-0.70.16-py311-none-any.whl (143 kB)\n",
            "\u001b[2K   \u001b[90m━━━━━━━━━━━━━━━━━━━━━━━━━━━━━━━━━━━━━━━━\u001b[0m \u001b[32m143.5/143.5 kB\u001b[0m \u001b[31m15.4 MB/s\u001b[0m eta \u001b[36m0:00:00\u001b[0m\n",
            "\u001b[?25hDownloading xxhash-3.5.0-cp311-cp311-manylinux_2_17_x86_64.manylinux2014_x86_64.whl (194 kB)\n",
            "\u001b[2K   \u001b[90m━━━━━━━━━━━━━━━━━━━━━━━━━━━━━━━━━━━━━━━━\u001b[0m \u001b[32m194.8/194.8 kB\u001b[0m \u001b[31m19.9 MB/s\u001b[0m eta \u001b[36m0:00:00\u001b[0m\n",
            "\u001b[?25hInstalling collected packages: xxhash, fsspec, dill, multiprocess, datasets, evaluate\n",
            "  Attempting uninstall: fsspec\n",
            "    Found existing installation: fsspec 2025.3.2\n",
            "    Uninstalling fsspec-2025.3.2:\n",
            "      Successfully uninstalled fsspec-2025.3.2\n",
            "\u001b[31mERROR: pip's dependency resolver does not currently take into account all the packages that are installed. This behaviour is the source of the following dependency conflicts.\n",
            "gcsfs 2025.3.2 requires fsspec==2025.3.2, but you have fsspec 2024.12.0 which is incompatible.\n",
            "torch 2.6.0+cu124 requires nvidia-cublas-cu12==12.4.5.8; platform_system == \"Linux\" and platform_machine == \"x86_64\", but you have nvidia-cublas-cu12 12.5.3.2 which is incompatible.\n",
            "torch 2.6.0+cu124 requires nvidia-cuda-cupti-cu12==12.4.127; platform_system == \"Linux\" and platform_machine == \"x86_64\", but you have nvidia-cuda-cupti-cu12 12.5.82 which is incompatible.\n",
            "torch 2.6.0+cu124 requires nvidia-cuda-nvrtc-cu12==12.4.127; platform_system == \"Linux\" and platform_machine == \"x86_64\", but you have nvidia-cuda-nvrtc-cu12 12.5.82 which is incompatible.\n",
            "torch 2.6.0+cu124 requires nvidia-cuda-runtime-cu12==12.4.127; platform_system == \"Linux\" and platform_machine == \"x86_64\", but you have nvidia-cuda-runtime-cu12 12.5.82 which is incompatible.\n",
            "torch 2.6.0+cu124 requires nvidia-cudnn-cu12==9.1.0.70; platform_system == \"Linux\" and platform_machine == \"x86_64\", but you have nvidia-cudnn-cu12 9.3.0.75 which is incompatible.\n",
            "torch 2.6.0+cu124 requires nvidia-cufft-cu12==11.2.1.3; platform_system == \"Linux\" and platform_machine == \"x86_64\", but you have nvidia-cufft-cu12 11.2.3.61 which is incompatible.\n",
            "torch 2.6.0+cu124 requires nvidia-curand-cu12==10.3.5.147; platform_system == \"Linux\" and platform_machine == \"x86_64\", but you have nvidia-curand-cu12 10.3.6.82 which is incompatible.\n",
            "torch 2.6.0+cu124 requires nvidia-cusolver-cu12==11.6.1.9; platform_system == \"Linux\" and platform_machine == \"x86_64\", but you have nvidia-cusolver-cu12 11.6.3.83 which is incompatible.\n",
            "torch 2.6.0+cu124 requires nvidia-cusparse-cu12==12.3.1.170; platform_system == \"Linux\" and platform_machine == \"x86_64\", but you have nvidia-cusparse-cu12 12.5.1.3 which is incompatible.\n",
            "torch 2.6.0+cu124 requires nvidia-nvjitlink-cu12==12.4.127; platform_system == \"Linux\" and platform_machine == \"x86_64\", but you have nvidia-nvjitlink-cu12 12.5.82 which is incompatible.\u001b[0m\u001b[31m\n",
            "\u001b[0mSuccessfully installed datasets-3.5.0 dill-0.3.8 evaluate-0.4.3 fsspec-2024.12.0 multiprocess-0.70.16 xxhash-3.5.0\n"
          ]
        }
      ]
    },
    {
      "cell_type": "markdown",
      "source": [
        "# Model Checkpoint"
      ],
      "metadata": {
        "id": "5fLfFIM1Nf-L"
      }
    },
    {
      "cell_type": "code",
      "source": [
        "model_checkpt = \"google/vit-base-patch16-224-in21k\" # May be better for fine tuning than non-in21k version"
      ],
      "metadata": {
        "id": "kEjFgoA2Nh9w"
      },
      "execution_count": 1,
      "outputs": []
    },
    {
      "cell_type": "markdown",
      "source": [
        "# Load Dataset"
      ],
      "metadata": {
        "id": "qQomrqa4Ppd4"
      }
    },
    {
      "cell_type": "code",
      "source": [
        "from datasets import load_dataset\n",
        "\n",
        "cifar_10_ds = load_dataset(\"cifar10\")"
      ],
      "metadata": {
        "colab": {
          "base_uri": "https://localhost:8080/"
        },
        "id": "iaQctfGjPqWB",
        "outputId": "07613cd2-9619-4f66-fbf4-356516756b06"
      },
      "execution_count": 2,
      "outputs": [
        {
          "output_type": "stream",
          "name": "stderr",
          "text": [
            "/usr/local/lib/python3.11/dist-packages/huggingface_hub/utils/_auth.py:94: UserWarning: \n",
            "The secret `HF_TOKEN` does not exist in your Colab secrets.\n",
            "To authenticate with the Hugging Face Hub, create a token in your settings tab (https://huggingface.co/settings/tokens), set it as secret in your Google Colab and restart your session.\n",
            "You will be able to reuse this secret in all of your notebooks.\n",
            "Please note that authentication is recommended but still optional to access public models or datasets.\n",
            "  warnings.warn(\n"
          ]
        }
      ]
    },
    {
      "cell_type": "code",
      "source": [
        "import evaluate\n",
        "\n",
        "metric = evaluate.load(\"accuracy\")"
      ],
      "metadata": {
        "id": "vQkFJSgqPv75"
      },
      "execution_count": 3,
      "outputs": []
    },
    {
      "cell_type": "code",
      "source": [
        "label2id = {label: idx for idx, label in enumerate(cifar_10_ds[\"train\"].features[\"label\"].names)}\n",
        "id2label = {idx: label for label, idx in label2id.items()}"
      ],
      "metadata": {
        "id": "hwmF4elGP9PE"
      },
      "execution_count": 4,
      "outputs": []
    },
    {
      "cell_type": "markdown",
      "source": [
        "# Pre-process Dataset"
      ],
      "metadata": {
        "id": "U2_u9yXYQG7r"
      }
    },
    {
      "cell_type": "markdown",
      "source": [
        "Note: Data augmentation is much more important for Vision Transformers than CNNs."
      ],
      "metadata": {
        "id": "9HWygSwIQIWG"
      }
    },
    {
      "cell_type": "code",
      "source": [
        "from transformers import AutoImageProcessor\n",
        "\n",
        "image_processor = AutoImageProcessor.from_pretrained(model_checkpt) # Make sure image resize is apppropriate for model\n",
        "\n",
        "image_processor"
      ],
      "metadata": {
        "colab": {
          "base_uri": "https://localhost:8080/"
        },
        "id": "n9F8wnFVQcwB",
        "outputId": "e817d0f2-f899-4dd0-e1d4-82107dfa1230"
      },
      "execution_count": 5,
      "outputs": [
        {
          "output_type": "stream",
          "name": "stderr",
          "text": [
            "Fast image processor class <class 'transformers.models.vit.image_processing_vit_fast.ViTImageProcessorFast'> is available for this model. Using slow image processor class. To use the fast image processor class set `use_fast=True`.\n"
          ]
        },
        {
          "output_type": "execute_result",
          "data": {
            "text/plain": [
              "ViTImageProcessor {\n",
              "  \"do_convert_rgb\": null,\n",
              "  \"do_normalize\": true,\n",
              "  \"do_rescale\": true,\n",
              "  \"do_resize\": true,\n",
              "  \"image_mean\": [\n",
              "    0.5,\n",
              "    0.5,\n",
              "    0.5\n",
              "  ],\n",
              "  \"image_processor_type\": \"ViTImageProcessor\",\n",
              "  \"image_std\": [\n",
              "    0.5,\n",
              "    0.5,\n",
              "    0.5\n",
              "  ],\n",
              "  \"resample\": 2,\n",
              "  \"rescale_factor\": 0.00392156862745098,\n",
              "  \"size\": {\n",
              "    \"height\": 224,\n",
              "    \"width\": 224\n",
              "  }\n",
              "}"
            ]
          },
          "metadata": {},
          "execution_count": 5
        }
      ]
    },
    {
      "cell_type": "code",
      "source": [
        "from torchvision.transforms import (\n",
        "    CenterCrop,\n",
        "    Compose,\n",
        "    Normalize,\n",
        "    RandomHorizontalFlip,\n",
        "    RandomResizedCrop,\n",
        "    Resize,\n",
        "    ToTensor,\n",
        ")\n",
        "\n",
        "normalize = Normalize(mean=image_processor.image_mean, std=image_processor.image_std) # Normalize color channels\n",
        "\n",
        "if \"height\" in image_processor.size: # Crop images to size model expects\n",
        "    size = (image_processor.size[\"height\"], image_processor.size[\"width\"])\n",
        "    crop_size = size\n",
        "    max_size = None\n",
        "\n",
        "elif \"shortest_edge\" in image_processor.size:\n",
        "    size = image_processor.size[\"shortest_edge\"]\n",
        "    crop_size = (size, size)\n",
        "    max_size = image_processor.size.get(\"longest_edge\")\n",
        "\n",
        "\n",
        "train_transforms = Compose(\n",
        "    [\n",
        "        RandomResizedCrop(crop_size),\n",
        "        RandomHorizontalFlip(),\n",
        "        ToTensor(),\n",
        "        normalize,\n",
        "    ]\n",
        ")\n",
        "\n",
        "validation_transforms = Compose(\n",
        "    [\n",
        "        Resize(size),\n",
        "        CenterCrop(crop_size),\n",
        "        ToTensor(),\n",
        "        normalize,\n",
        "    ]\n",
        ")"
      ],
      "metadata": {
        "id": "iERtHBthQOa4"
      },
      "execution_count": 6,
      "outputs": []
    },
    {
      "cell_type": "code",
      "source": [
        "def preprocess_train(example_batch):\n",
        "    \"\"\"\n",
        "    Apply transformations to images in batch\n",
        "    \"\"\"\n",
        "    example_batch[\"pixel_values\"] = [train_transforms(image.convert(\"RGB\")) for image in example_batch[\"img\"]]\n",
        "    return example_batch\n",
        "\n",
        "def preprocess_validation(example_batch):\n",
        "    \"\"\"\n",
        "    Apply transformations to images in batch\n",
        "    \"\"\"\n",
        "    example_batch[\"pixel_values\"] = [validation_transforms(image.convert(\"RGB\")) for image in example_batch[\"img\"]]\n",
        "    return example_batch"
      ],
      "metadata": {
        "id": "p-rtOrxdReF0"
      },
      "execution_count": 7,
      "outputs": []
    },
    {
      "cell_type": "code",
      "source": [
        "# Apply transformations to dataset\n",
        "\n",
        "splits = cifar_10_ds[\"train\"].train_test_split(test_size=0.2)\n",
        "\n",
        "train_ds = splits[\"train\"]\n",
        "val_ds = splits[\"test\"]\n",
        "\n",
        "train_ds.set_transform(preprocess_train) # Set_transform only applies when images loaded into RAM, so better to use than map\n",
        "val_ds.set_transform(preprocess_validation)"
      ],
      "metadata": {
        "id": "AnKehxeKR16-"
      },
      "execution_count": 8,
      "outputs": []
    },
    {
      "cell_type": "code",
      "source": [
        "train_ds[0] # Make sure pixel values feature has been added"
      ],
      "metadata": {
        "colab": {
          "base_uri": "https://localhost:8080/"
        },
        "id": "Yw5ABP19YVEb",
        "outputId": "eefab4d1-8509-4821-c4e8-9efc967e08ab"
      },
      "execution_count": 9,
      "outputs": [
        {
          "output_type": "execute_result",
          "data": {
            "text/plain": [
              "{'img': <PIL.PngImagePlugin.PngImageFile image mode=RGB size=32x32>,\n",
              " 'label': 3,\n",
              " 'pixel_values': tensor([[[-0.0588, -0.0588, -0.0588,  ..., -0.1843, -0.1843, -0.1843],\n",
              "          [-0.0588, -0.0588, -0.0588,  ..., -0.1843, -0.1843, -0.1843],\n",
              "          [-0.0588, -0.0588, -0.0588,  ..., -0.1843, -0.1843, -0.1843],\n",
              "          ...,\n",
              "          [-0.5922, -0.5922, -0.5922,  ..., -0.7412, -0.7412, -0.7412],\n",
              "          [-0.5922, -0.5922, -0.5922,  ..., -0.7412, -0.7412, -0.7412],\n",
              "          [-0.5922, -0.5922, -0.5922,  ..., -0.7412, -0.7412, -0.7412]],\n",
              " \n",
              "         [[ 0.0353,  0.0353,  0.0353,  ..., -0.0588, -0.0588, -0.0588],\n",
              "          [ 0.0353,  0.0353,  0.0353,  ..., -0.0588, -0.0588, -0.0588],\n",
              "          [ 0.0353,  0.0353,  0.0353,  ..., -0.0588, -0.0588, -0.0588],\n",
              "          ...,\n",
              "          [-0.5059, -0.5059, -0.5059,  ..., -0.6549, -0.6549, -0.6549],\n",
              "          [-0.5059, -0.5059, -0.5059,  ..., -0.6549, -0.6549, -0.6549],\n",
              "          [-0.5059, -0.5059, -0.5059,  ..., -0.6549, -0.6549, -0.6549]],\n",
              " \n",
              "         [[-0.1529, -0.1529, -0.1529,  ..., -0.2157, -0.2157, -0.2157],\n",
              "          [-0.1529, -0.1529, -0.1529,  ..., -0.2157, -0.2157, -0.2157],\n",
              "          [-0.1529, -0.1529, -0.1529,  ..., -0.2157, -0.2157, -0.2157],\n",
              "          ...,\n",
              "          [-0.6157, -0.6157, -0.6157,  ..., -0.7412, -0.7412, -0.7412],\n",
              "          [-0.6157, -0.6157, -0.6157,  ..., -0.7412, -0.7412, -0.7412],\n",
              "          [-0.6157, -0.6157, -0.6157,  ..., -0.7412, -0.7412, -0.7412]]])}"
            ]
          },
          "metadata": {},
          "execution_count": 9
        }
      ]
    },
    {
      "cell_type": "markdown",
      "source": [
        "# Fine Tuning"
      ],
      "metadata": {
        "id": "AEsDiZ57SNgu"
      }
    },
    {
      "cell_type": "markdown",
      "source": [
        "## Load Model"
      ],
      "metadata": {
        "id": "cbHLlBOBVmRO"
      }
    },
    {
      "cell_type": "code",
      "source": [
        "from transformers import AutoModelForImageClassification, TrainingArguments, Trainer\n",
        "\n",
        "model = AutoModelForImageClassification.from_pretrained( # Load model\n",
        "    model_checkpt,\n",
        "    label2id=label2id,\n",
        "    id2label=id2label,\n",
        "    ignore_mismatched_sizes=True, # Need b/c fine-tuning from already fine-tuned model checkpoint\n",
        ")"
      ],
      "metadata": {
        "colab": {
          "base_uri": "https://localhost:8080/"
        },
        "id": "_m35VNd9SOe6",
        "outputId": "c51d6ef5-09f0-4747-94f3-c6dd96905981"
      },
      "execution_count": 10,
      "outputs": [
        {
          "output_type": "stream",
          "name": "stderr",
          "text": [
            "Some weights of ViTForImageClassification were not initialized from the model checkpoint at google/vit-base-patch16-224-in21k and are newly initialized: ['classifier.bias', 'classifier.weight']\n",
            "You should probably TRAIN this model on a down-stream task to be able to use it for predictions and inference.\n"
          ]
        }
      ]
    },
    {
      "cell_type": "markdown",
      "source": [
        "## Set Hyperparameters"
      ],
      "metadata": {
        "id": "_SY6pEEGVnoq"
      }
    },
    {
      "cell_type": "code",
      "source": [
        "from logging import log\n",
        "model_name = model_checkpt.split(\"/\")[-1] # Remove google/ part for finetuned model name\n",
        "\n",
        "output_dir = f\"{model_name}-finetuned-cifar10\"\n",
        "batch_size = 32 # Increase to speed up training & evaluation\n",
        "logging_steps = 10 # Get more granular updates\n",
        "\n",
        "training_args = TrainingArguments(\n",
        "    output_dir=output_dir,\n",
        "    remove_unused_columns=False, # Need b/c image column is necessary to create pixel values\n",
        "    eval_strategy=\"epoch\",\n",
        "    save_strategy=\"epoch\", # Save model at each epoch\n",
        "    learning_rate=5e-5,\n",
        "    per_device_train_batch_size=batch_size,\n",
        "    gradient_accumulation_steps=4, # Speeds up training\n",
        "    per_device_eval_batch_size=batch_size,\n",
        "    num_train_epochs=3,\n",
        "    warmup_ratio=0.1, # 10% of training steps to increase learning rate to desired amount\n",
        "    logging_steps=logging_steps,\n",
        "    disable_tqdm=False,\n",
        "    report_to=\"none\", # Disable WandB logging\n",
        "    load_best_model_at_end=True,\n",
        "    metric_for_best_model=\"accuracy\",\n",
        "    fp16=True, # Speeds up training\n",
        ")"
      ],
      "metadata": {
        "id": "g2FUCZ0TSZ4B"
      },
      "execution_count": 11,
      "outputs": []
    },
    {
      "cell_type": "markdown",
      "source": [
        "## Define Accuracy and Collation Functions"
      ],
      "metadata": {
        "id": "8PVIySzTVqxk"
      }
    },
    {
      "cell_type": "code",
      "source": [
        "import numpy as np\n",
        "\n",
        "def compute_metrics(eval_pred):\n",
        "    \"\"\"\n",
        "    Compute accuracy metrics on a batch of predictions\n",
        "    \"\"\"\n",
        "    predictions, labels = eval_pred\n",
        "    predictions = np.argmax(predictions, axis=1)\n",
        "    return metric.compute(predictions=predictions, references=labels)"
      ],
      "metadata": {
        "id": "Edp_uRDtU7kc"
      },
      "execution_count": 12,
      "outputs": []
    },
    {
      "cell_type": "code",
      "source": [
        "import torch\n",
        "\n",
        "def collate(examples: list):\n",
        "  \"\"\"\n",
        "  Create batches\n",
        "  \"\"\"\n",
        "\n",
        "  # Stack all pixel values into single tensor\n",
        "  pixel_values = torch.stack([example[\"pixel_values\"] for example in examples])\n",
        "\n",
        "  # Extract labels from each example\n",
        "  labels = torch.tensor([example[\"label\"] for example in examples])\n",
        "\n",
        "  return {\"pixel_values\": pixel_values, \"labels\": labels}"
      ],
      "metadata": {
        "id": "5tShOt7ZVFcF"
      },
      "execution_count": 13,
      "outputs": []
    },
    {
      "cell_type": "markdown",
      "source": [
        "## Train and Evaluate Model"
      ],
      "metadata": {
        "id": "Llv3xzXZVv9T"
      }
    },
    {
      "cell_type": "code",
      "source": [
        "trainer = Trainer(\n",
        "    model,\n",
        "    args=training_args,\n",
        "    train_dataset=train_ds,\n",
        "    eval_dataset=val_ds,\n",
        "    processing_class=image_processor, # Make sure image processor JSON config is saved w/ model\n",
        "    compute_metrics=compute_metrics,\n",
        "    data_collator=collate\n",
        ")\n",
        "\n",
        "trainer.train()"
      ],
      "metadata": {
        "colab": {
          "base_uri": "https://localhost:8080/",
          "height": 174
        },
        "id": "GsGWeNLiVxuz",
        "outputId": "66c4847b-f1a9-44a1-b477-d91df52904c3"
      },
      "execution_count": 14,
      "outputs": [
        {
          "output_type": "display_data",
          "data": {
            "text/plain": [
              "<IPython.core.display.HTML object>"
            ],
            "text/html": [
              "\n",
              "    <div>\n",
              "      \n",
              "      <progress value='936' max='936' style='width:300px; height:20px; vertical-align: middle;'></progress>\n",
              "      [936/936 22:32, Epoch 2/3]\n",
              "    </div>\n",
              "    <table border=\"1\" class=\"dataframe\">\n",
              "  <thead>\n",
              " <tr style=\"text-align: left;\">\n",
              "      <th>Epoch</th>\n",
              "      <th>Training Loss</th>\n",
              "      <th>Validation Loss</th>\n",
              "      <th>Accuracy</th>\n",
              "    </tr>\n",
              "  </thead>\n",
              "  <tbody>\n",
              "    <tr>\n",
              "      <td>1</td>\n",
              "      <td>0.416600</td>\n",
              "      <td>0.232361</td>\n",
              "      <td>0.979100</td>\n",
              "    </tr>\n",
              "    <tr>\n",
              "      <td>2</td>\n",
              "      <td>0.266100</td>\n",
              "      <td>0.112587</td>\n",
              "      <td>0.987700</td>\n",
              "    </tr>\n",
              "  </tbody>\n",
              "</table><p>"
            ]
          },
          "metadata": {}
        },
        {
          "output_type": "execute_result",
          "data": {
            "text/plain": [
              "TrainOutput(global_step=936, training_loss=0.5461161116249541, metrics={'train_runtime': 1354.7959, 'train_samples_per_second': 88.574, 'train_steps_per_second': 0.691, 'total_flos': 9.27490629380604e+18, 'train_loss': 0.5461161116249541, 'epoch': 2.992})"
            ]
          },
          "metadata": {},
          "execution_count": 14
        }
      ]
    },
    {
      "cell_type": "markdown",
      "source": [
        "# Upload model to Hugging Face Hub"
      ],
      "metadata": {
        "id": "jcxPBicTfXHV"
      }
    },
    {
      "cell_type": "code",
      "source": [
        "from huggingface_hub import notebook_login\n",
        "\n",
        "notebook_login() # Login to account"
      ],
      "metadata": {
        "colab": {
          "base_uri": "https://localhost:8080/",
          "height": 17,
          "referenced_widgets": [
            "d3275637e172491da72b6173d120927f",
            "52614cd9dfbd46b2817f928b6a1deecb",
            "c7d4a7504bf048b095e874f71cdafe36",
            "f31d1db13bbf426a9a577692f1221f58",
            "531ba8e870f240199870a5ed7e368cd9",
            "063065e911d84a5792940b580bfa5799",
            "fa25a6c0b80c4a6797e965d99a5c5abf",
            "1c1d6765982848de8fc32532199fd8fa",
            "eda00f4215c14569ad1a358aab341d9d",
            "b54336fdcc884682907f23a7d97b2028",
            "db7db2cba18543a3926760c1541e78e7",
            "2e7168110e7f407e990c36342d2d2285",
            "7c796cc9a2a44b5e9f41d6aee47c5b87",
            "05db8cab5b8c49e796a8fc62e3248be3",
            "ed3f5f29d2984f099f4ac7df0933f314",
            "395923716dc44de1943df7535dfcba64",
            "52694575ee6847fb8af10e1f3d9a5df2",
            "b15ef027705d4a028a8aab3a5c6f9b6f",
            "43aa1114be374e30950353b5529db41f",
            "034ff6e31509490f9b536f204d186cc3"
          ]
        },
        "id": "hk9AiB1ofYoo",
        "outputId": "dbd1546e-a0e2-4558-e3d4-c171742afb86"
      },
      "execution_count": 15,
      "outputs": [
        {
          "output_type": "display_data",
          "data": {
            "text/plain": [
              "VBox(children=(HTML(value='<center> <img\\nsrc=https://huggingface.co/front/assets/huggingface_logo-noborder.sv…"
            ],
            "application/vnd.jupyter.widget-view+json": {
              "version_major": 2,
              "version_minor": 0,
              "model_id": "d3275637e172491da72b6173d120927f"
            }
          },
          "metadata": {}
        }
      ]
    },
    {
      "cell_type": "code",
      "source": [
        "kwargs = {\n",
        "    \"dataset_tags\": \"cifar-10\",\n",
        "    \"dataset\": \"cifar-10\",\n",
        "}\n",
        "\n",
        "trainer.push_to_hub(commit_message=\"Improve model accuracy\", **kwargs)"
      ],
      "metadata": {
        "colab": {
          "base_uri": "https://localhost:8080/",
          "height": 204,
          "referenced_widgets": [
            "ee8b4302ba8b4a15ba797078b9702cd1",
            "cc52e4eaca444ef28615b8eb4f75b3c0",
            "39f225d01aa047b987e6ed7e95f7a077",
            "4ffb1e5d4d0c40aebb365ec74098e6b8",
            "8f9ab021a5354ac8a4e37f777c0c780d",
            "0892bd2228c14f76861e34a1bf6b1860",
            "0379b8f0d5024da4ba2cfdd1334249d8",
            "a381140031ae46c5821a8b5b7db68327",
            "8c2892e286e94f20ad5c9a7fad02696c",
            "010481046d754c57b0364f949c59b802",
            "bc67e34df8db4b8d8bc67044981416e5",
            "6f3912348989482c981687eaf9cc7ced",
            "d1a6a94f344f4cf6992bc41dd14c704a",
            "eb02221ef30c42ef88e61b599f555024",
            "729f31fdd725496c9885fedc6201c4e3",
            "c2101c1141114266b0c38680201d7ce4",
            "c157eebccaa04d118900056ba7001b98",
            "165279b840f3422f9e46459e27ac4306",
            "07780a3888184d359bea73ff83302cbe",
            "e25ee98c3bc1474ab86d6ff8f6cafe1b",
            "279042e71e044ece80ca51e834b0d907",
            "05d95c73bf5a4c83a21798e15206791b",
            "5d25dde89476459684440d0467ba28fc",
            "2ffdd25f60ac4b88833af6ab1be14469",
            "d952f086b57e48f2a7b46961ea7974ab",
            "8fdba469deac48599d5ae1307c5b521d",
            "7ac977c2294f40fc94437fe4b3f69e7c",
            "43c76b6c542745b2b9bdc1219503c474",
            "c2bf4f21ff10401d855a7f9804d4a85c",
            "46f3030951b54f59a14ccf0bc85bf969",
            "5fa7fcd58cb543bd9ee2914a25bac7af",
            "56ff1cca9d904a7b8a497e8d9955b74f",
            "c25c9eaeb2cc4fd2a479dde4df03e74b"
          ]
        },
        "id": "Z1bic0y-fbdN",
        "outputId": "90ad2017-431e-4ae4-9588-86fb0d40d5e1"
      },
      "execution_count": 18,
      "outputs": [
        {
          "output_type": "display_data",
          "data": {
            "text/plain": [
              "model.safetensors:   0%|          | 0.00/343M [00:00<?, ?B/s]"
            ],
            "application/vnd.jupyter.widget-view+json": {
              "version_major": 2,
              "version_minor": 0,
              "model_id": "ee8b4302ba8b4a15ba797078b9702cd1"
            }
          },
          "metadata": {}
        },
        {
          "output_type": "display_data",
          "data": {
            "text/plain": [
              "Upload 2 LFS files:   0%|          | 0/2 [00:00<?, ?it/s]"
            ],
            "application/vnd.jupyter.widget-view+json": {
              "version_major": 2,
              "version_minor": 0,
              "model_id": "6f3912348989482c981687eaf9cc7ced"
            }
          },
          "metadata": {}
        },
        {
          "output_type": "display_data",
          "data": {
            "text/plain": [
              "training_args.bin:   0%|          | 0.00/5.37k [00:00<?, ?B/s]"
            ],
            "application/vnd.jupyter.widget-view+json": {
              "version_major": 2,
              "version_minor": 0,
              "model_id": "5d25dde89476459684440d0467ba28fc"
            }
          },
          "metadata": {}
        },
        {
          "output_type": "execute_result",
          "data": {
            "text/plain": [
              "CommitInfo(commit_url='https://huggingface.co/avanishd/vit-base-patch16-224-in21k-finetuned-cifar10/commit/2b40a4381a86cbf3b404c6fd8e45da6d4d472446', commit_message='Improve model accuracy', commit_description='', oid='2b40a4381a86cbf3b404c6fd8e45da6d4d472446', pr_url=None, repo_url=RepoUrl('https://huggingface.co/avanishd/vit-base-patch16-224-in21k-finetuned-cifar10', endpoint='https://huggingface.co', repo_type='model', repo_id='avanishd/vit-base-patch16-224-in21k-finetuned-cifar10'), pr_revision=None, pr_num=None)"
            ],
            "application/vnd.google.colaboratory.intrinsic+json": {
              "type": "string"
            }
          },
          "metadata": {},
          "execution_count": 18
        }
      ]
    }
  ]
}
