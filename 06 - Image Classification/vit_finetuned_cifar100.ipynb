{
  "nbformat": 4,
  "nbformat_minor": 0,
  "metadata": {
    "colab": {
      "provenance": [],
      "toc_visible": true,
      "gpuType": "T4"
    },
    "kernelspec": {
      "name": "python3",
      "display_name": "Python 3"
    },
    "language_info": {
      "name": "python"
    },
    "accelerator": "GPU"
  },
  "cells": [
    {
      "cell_type": "markdown",
      "source": [
        "Finetune ViT on CIFAR-100"
      ],
      "metadata": {
        "id": "SYVsvEv1MfwY"
      }
    },
    {
      "cell_type": "markdown",
      "source": [
        "# Necessary Libraries"
      ],
      "metadata": {
        "id": "d6g9KqX8NNmI"
      }
    },
    {
      "cell_type": "code",
      "source": [
        "%pip install datasets evaluate"
      ],
      "metadata": {
        "colab": {
          "base_uri": "https://localhost:8080/"
        },
        "id": "4yt3I9_iNPu1",
        "outputId": "2033a477-72f0-49d9-fd0a-0260f4cdf6b5"
      },
      "execution_count": 1,
      "outputs": [
        {
          "output_type": "stream",
          "name": "stdout",
          "text": [
            "Collecting datasets\n",
            "  Downloading datasets-3.5.0-py3-none-any.whl.metadata (19 kB)\n",
            "Collecting evaluate\n",
            "  Downloading evaluate-0.4.3-py3-none-any.whl.metadata (9.2 kB)\n",
            "Requirement already satisfied: filelock in /usr/local/lib/python3.11/dist-packages (from datasets) (3.18.0)\n",
            "Requirement already satisfied: numpy>=1.17 in /usr/local/lib/python3.11/dist-packages (from datasets) (2.0.2)\n",
            "Requirement already satisfied: pyarrow>=15.0.0 in /usr/local/lib/python3.11/dist-packages (from datasets) (18.1.0)\n",
            "Collecting dill<0.3.9,>=0.3.0 (from datasets)\n",
            "  Downloading dill-0.3.8-py3-none-any.whl.metadata (10 kB)\n",
            "Requirement already satisfied: pandas in /usr/local/lib/python3.11/dist-packages (from datasets) (2.2.2)\n",
            "Requirement already satisfied: requests>=2.32.2 in /usr/local/lib/python3.11/dist-packages (from datasets) (2.32.3)\n",
            "Requirement already satisfied: tqdm>=4.66.3 in /usr/local/lib/python3.11/dist-packages (from datasets) (4.67.1)\n",
            "Collecting xxhash (from datasets)\n",
            "  Downloading xxhash-3.5.0-cp311-cp311-manylinux_2_17_x86_64.manylinux2014_x86_64.whl.metadata (12 kB)\n",
            "Collecting multiprocess<0.70.17 (from datasets)\n",
            "  Downloading multiprocess-0.70.16-py311-none-any.whl.metadata (7.2 kB)\n",
            "Collecting fsspec<=2024.12.0,>=2023.1.0 (from fsspec[http]<=2024.12.0,>=2023.1.0->datasets)\n",
            "  Downloading fsspec-2024.12.0-py3-none-any.whl.metadata (11 kB)\n",
            "Requirement already satisfied: aiohttp in /usr/local/lib/python3.11/dist-packages (from datasets) (3.11.15)\n",
            "Requirement already satisfied: huggingface-hub>=0.24.0 in /usr/local/lib/python3.11/dist-packages (from datasets) (0.30.2)\n",
            "Requirement already satisfied: packaging in /usr/local/lib/python3.11/dist-packages (from datasets) (24.2)\n",
            "Requirement already satisfied: pyyaml>=5.1 in /usr/local/lib/python3.11/dist-packages (from datasets) (6.0.2)\n",
            "Requirement already satisfied: aiohappyeyeballs>=2.3.0 in /usr/local/lib/python3.11/dist-packages (from aiohttp->datasets) (2.6.1)\n",
            "Requirement already satisfied: aiosignal>=1.1.2 in /usr/local/lib/python3.11/dist-packages (from aiohttp->datasets) (1.3.2)\n",
            "Requirement already satisfied: attrs>=17.3.0 in /usr/local/lib/python3.11/dist-packages (from aiohttp->datasets) (25.3.0)\n",
            "Requirement already satisfied: frozenlist>=1.1.1 in /usr/local/lib/python3.11/dist-packages (from aiohttp->datasets) (1.6.0)\n",
            "Requirement already satisfied: multidict<7.0,>=4.5 in /usr/local/lib/python3.11/dist-packages (from aiohttp->datasets) (6.4.3)\n",
            "Requirement already satisfied: propcache>=0.2.0 in /usr/local/lib/python3.11/dist-packages (from aiohttp->datasets) (0.3.1)\n",
            "Requirement already satisfied: yarl<2.0,>=1.17.0 in /usr/local/lib/python3.11/dist-packages (from aiohttp->datasets) (1.20.0)\n",
            "Requirement already satisfied: typing-extensions>=3.7.4.3 in /usr/local/lib/python3.11/dist-packages (from huggingface-hub>=0.24.0->datasets) (4.13.2)\n",
            "Requirement already satisfied: charset-normalizer<4,>=2 in /usr/local/lib/python3.11/dist-packages (from requests>=2.32.2->datasets) (3.4.1)\n",
            "Requirement already satisfied: idna<4,>=2.5 in /usr/local/lib/python3.11/dist-packages (from requests>=2.32.2->datasets) (3.10)\n",
            "Requirement already satisfied: urllib3<3,>=1.21.1 in /usr/local/lib/python3.11/dist-packages (from requests>=2.32.2->datasets) (2.3.0)\n",
            "Requirement already satisfied: certifi>=2017.4.17 in /usr/local/lib/python3.11/dist-packages (from requests>=2.32.2->datasets) (2025.1.31)\n",
            "Requirement already satisfied: python-dateutil>=2.8.2 in /usr/local/lib/python3.11/dist-packages (from pandas->datasets) (2.8.2)\n",
            "Requirement already satisfied: pytz>=2020.1 in /usr/local/lib/python3.11/dist-packages (from pandas->datasets) (2025.2)\n",
            "Requirement already satisfied: tzdata>=2022.7 in /usr/local/lib/python3.11/dist-packages (from pandas->datasets) (2025.2)\n",
            "Requirement already satisfied: six>=1.5 in /usr/local/lib/python3.11/dist-packages (from python-dateutil>=2.8.2->pandas->datasets) (1.17.0)\n",
            "Downloading datasets-3.5.0-py3-none-any.whl (491 kB)\n",
            "\u001b[2K   \u001b[90m━━━━━━━━━━━━━━━━━━━━━━━━━━━━━━━━━━━━━━━━\u001b[0m \u001b[32m491.2/491.2 kB\u001b[0m \u001b[31m5.0 MB/s\u001b[0m eta \u001b[36m0:00:00\u001b[0m\n",
            "\u001b[?25hDownloading evaluate-0.4.3-py3-none-any.whl (84 kB)\n",
            "\u001b[2K   \u001b[90m━━━━━━━━━━━━━━━━━━━━━━━━━━━━━━━━━━━━━━━━\u001b[0m \u001b[32m84.0/84.0 kB\u001b[0m \u001b[31m7.1 MB/s\u001b[0m eta \u001b[36m0:00:00\u001b[0m\n",
            "\u001b[?25hDownloading dill-0.3.8-py3-none-any.whl (116 kB)\n",
            "\u001b[2K   \u001b[90m━━━━━━━━━━━━━━━━━━━━━━━━━━━━━━━━━━━━━━━━\u001b[0m \u001b[32m116.3/116.3 kB\u001b[0m \u001b[31m9.5 MB/s\u001b[0m eta \u001b[36m0:00:00\u001b[0m\n",
            "\u001b[?25hDownloading fsspec-2024.12.0-py3-none-any.whl (183 kB)\n",
            "\u001b[2K   \u001b[90m━━━━━━━━━━━━━━━━━━━━━━━━━━━━━━━━━━━━━━━━\u001b[0m \u001b[32m183.9/183.9 kB\u001b[0m \u001b[31m7.2 MB/s\u001b[0m eta \u001b[36m0:00:00\u001b[0m\n",
            "\u001b[?25hDownloading multiprocess-0.70.16-py311-none-any.whl (143 kB)\n",
            "\u001b[2K   \u001b[90m━━━━━━━━━━━━━━━━━━━━━━━━━━━━━━━━━━━━━━━━\u001b[0m \u001b[32m143.5/143.5 kB\u001b[0m \u001b[31m11.1 MB/s\u001b[0m eta \u001b[36m0:00:00\u001b[0m\n",
            "\u001b[?25hDownloading xxhash-3.5.0-cp311-cp311-manylinux_2_17_x86_64.manylinux2014_x86_64.whl (194 kB)\n",
            "\u001b[2K   \u001b[90m━━━━━━━━━━━━━━━━━━━━━━━━━━━━━━━━━━━━━━━━\u001b[0m \u001b[32m194.8/194.8 kB\u001b[0m \u001b[31m13.3 MB/s\u001b[0m eta \u001b[36m0:00:00\u001b[0m\n",
            "\u001b[?25hInstalling collected packages: xxhash, fsspec, dill, multiprocess, datasets, evaluate\n",
            "  Attempting uninstall: fsspec\n",
            "    Found existing installation: fsspec 2025.3.2\n",
            "    Uninstalling fsspec-2025.3.2:\n",
            "      Successfully uninstalled fsspec-2025.3.2\n",
            "\u001b[31mERROR: pip's dependency resolver does not currently take into account all the packages that are installed. This behaviour is the source of the following dependency conflicts.\n",
            "gcsfs 2025.3.2 requires fsspec==2025.3.2, but you have fsspec 2024.12.0 which is incompatible.\n",
            "torch 2.6.0+cu124 requires nvidia-cublas-cu12==12.4.5.8; platform_system == \"Linux\" and platform_machine == \"x86_64\", but you have nvidia-cublas-cu12 12.5.3.2 which is incompatible.\n",
            "torch 2.6.0+cu124 requires nvidia-cuda-cupti-cu12==12.4.127; platform_system == \"Linux\" and platform_machine == \"x86_64\", but you have nvidia-cuda-cupti-cu12 12.5.82 which is incompatible.\n",
            "torch 2.6.0+cu124 requires nvidia-cuda-nvrtc-cu12==12.4.127; platform_system == \"Linux\" and platform_machine == \"x86_64\", but you have nvidia-cuda-nvrtc-cu12 12.5.82 which is incompatible.\n",
            "torch 2.6.0+cu124 requires nvidia-cuda-runtime-cu12==12.4.127; platform_system == \"Linux\" and platform_machine == \"x86_64\", but you have nvidia-cuda-runtime-cu12 12.5.82 which is incompatible.\n",
            "torch 2.6.0+cu124 requires nvidia-cudnn-cu12==9.1.0.70; platform_system == \"Linux\" and platform_machine == \"x86_64\", but you have nvidia-cudnn-cu12 9.3.0.75 which is incompatible.\n",
            "torch 2.6.0+cu124 requires nvidia-cufft-cu12==11.2.1.3; platform_system == \"Linux\" and platform_machine == \"x86_64\", but you have nvidia-cufft-cu12 11.2.3.61 which is incompatible.\n",
            "torch 2.6.0+cu124 requires nvidia-curand-cu12==10.3.5.147; platform_system == \"Linux\" and platform_machine == \"x86_64\", but you have nvidia-curand-cu12 10.3.6.82 which is incompatible.\n",
            "torch 2.6.0+cu124 requires nvidia-cusolver-cu12==11.6.1.9; platform_system == \"Linux\" and platform_machine == \"x86_64\", but you have nvidia-cusolver-cu12 11.6.3.83 which is incompatible.\n",
            "torch 2.6.0+cu124 requires nvidia-cusparse-cu12==12.3.1.170; platform_system == \"Linux\" and platform_machine == \"x86_64\", but you have nvidia-cusparse-cu12 12.5.1.3 which is incompatible.\n",
            "torch 2.6.0+cu124 requires nvidia-nvjitlink-cu12==12.4.127; platform_system == \"Linux\" and platform_machine == \"x86_64\", but you have nvidia-nvjitlink-cu12 12.5.82 which is incompatible.\u001b[0m\u001b[31m\n",
            "\u001b[0mSuccessfully installed datasets-3.5.0 dill-0.3.8 evaluate-0.4.3 fsspec-2024.12.0 multiprocess-0.70.16 xxhash-3.5.0\n"
          ]
        }
      ]
    },
    {
      "cell_type": "markdown",
      "source": [
        "# Model Checkpoint"
      ],
      "metadata": {
        "id": "5fLfFIM1Nf-L"
      }
    },
    {
      "cell_type": "code",
      "source": [
        "model_checkpt = \"google/vit-base-patch16-224-in21k\" # May be better for fine tuning than non-in21k version"
      ],
      "metadata": {
        "id": "kEjFgoA2Nh9w"
      },
      "execution_count": 2,
      "outputs": []
    },
    {
      "cell_type": "markdown",
      "source": [
        "# Load Dataset"
      ],
      "metadata": {
        "id": "qQomrqa4Ppd4"
      }
    },
    {
      "cell_type": "code",
      "source": [
        "from datasets import load_dataset\n",
        "\n",
        "cifar_100_ds = load_dataset(\"cifar100\")"
      ],
      "metadata": {
        "colab": {
          "base_uri": "https://localhost:8080/",
          "height": 306,
          "referenced_widgets": [
            "009bce5ccf1e41939ba8800efe238899",
            "9fd6e5f73906486198bab1f81b3a07db",
            "223af13429364316aa24c121539db4df",
            "426a770e736f470b94a6ec5cee42f7d0",
            "6d15d0d5263849d2a810b27102cfba74",
            "f9e601eacbb04f90871e56188433b9e5",
            "bb187d61cefa4927ae3dc38aade34cd7",
            "3514eebfcbc34de483861d4d288e12a8",
            "83661c73bb3143d7a71fc5c5bc25f17d",
            "be46612806fa4a6484b612144fe0ff84",
            "8e83dbe12da14805b3f65a973cf5a2d8",
            "dcc9e813d8494929b30f2832a422e6e1",
            "8f14ae3027fa4889b639f9baf8acdd78",
            "19b45066cf5a4e749ea7743cf62463d1",
            "99af4bf22bc84d64820702241e4f400a",
            "7eb0b820a3c9461fa870c2e63490d323",
            "2daf7f9cc35b4af5840af2f741e389b7",
            "ffaf52c33889472e85f22ad373049091",
            "e20647d34d8945a098df4e7d56ba740c",
            "7719b7cc16d5403fa83e55cc513214d0",
            "dd06c9fa265542259b25228ba19bf44c",
            "9f1063d8d9ed4187bfbc2a8fa2c34f85",
            "7a51179544b04b55bb5707c1061c176f",
            "fcc17587032448be832a6fdd65265e2b",
            "984a8a80887840ceb66a0fe67f998c1d",
            "084b342d4e59467bbe145a1663b57832",
            "5eee378ac029483d8ee17d68fc67c0d9",
            "444d9a1597af4a5ba432778380beda06",
            "171dc43acf7d4dfba87346d4c341aef6",
            "9e14d6a65d9842abb9484c895af6f373",
            "3eeb8cac02334b5695fc6556c4d35f9c",
            "150f15bb44b04a52a1ae1ad318da7fa3",
            "d531e3c5604b4a13883cccde85adb299",
            "d49c6e48577a4b7e96ff381a31e80eff",
            "634a9e895d8e40878170e8a9256246bb",
            "90fa3202355f4654aa439545d9185df3",
            "53c6ec6f454842ad8fa33349b6091a1b",
            "0be494f4522d4ec4872d14f4a73523d1",
            "c59f49d1e1404cf9a1af77613225f438",
            "b793720812b84905848ea7005a7637ae",
            "bf73410ef0cc4986a9c37ead5778677b",
            "fe3983a9170d434cac44386e32f69934",
            "9a29a4a975e44aa7bbd4f7ec69fb3563",
            "7bb9b3efcfe545e6a5f9b8059bcc9d1d",
            "e375da9d138a4260a2c7b996541a7346",
            "12903686b8774ef3a8c746f2de5fa1b2",
            "38be2c087c084a5787496f83e125cbdd",
            "25903fbecd974fd49720b7554c839568",
            "03989e72e23a4648aedb074b08699a72",
            "ab4c8cab138445e0b78aae324523794f",
            "17317673c36648cc8f908617a42ec345",
            "2b175b5e2fcc40be982de137fe28b6ca",
            "242d502d364d4cd893f94afb41ff9511",
            "3c3ef4d0f8564832ad0cc8fc06814ec0",
            "5919c0249afd4e16b2cb85f161fa68b4"
          ]
        },
        "id": "iaQctfGjPqWB",
        "outputId": "ac28cdc3-a7ec-49ec-b219-e2f1da18b894"
      },
      "execution_count": 3,
      "outputs": [
        {
          "output_type": "stream",
          "name": "stderr",
          "text": [
            "/usr/local/lib/python3.11/dist-packages/huggingface_hub/utils/_auth.py:94: UserWarning: \n",
            "The secret `HF_TOKEN` does not exist in your Colab secrets.\n",
            "To authenticate with the Hugging Face Hub, create a token in your settings tab (https://huggingface.co/settings/tokens), set it as secret in your Google Colab and restart your session.\n",
            "You will be able to reuse this secret in all of your notebooks.\n",
            "Please note that authentication is recommended but still optional to access public models or datasets.\n",
            "  warnings.warn(\n"
          ]
        },
        {
          "output_type": "display_data",
          "data": {
            "text/plain": [
              "README.md:   0%|          | 0.00/9.98k [00:00<?, ?B/s]"
            ],
            "application/vnd.jupyter.widget-view+json": {
              "version_major": 2,
              "version_minor": 0,
              "model_id": "009bce5ccf1e41939ba8800efe238899"
            }
          },
          "metadata": {}
        },
        {
          "output_type": "display_data",
          "data": {
            "text/plain": [
              "train-00000-of-00001.parquet:   0%|          | 0.00/119M [00:00<?, ?B/s]"
            ],
            "application/vnd.jupyter.widget-view+json": {
              "version_major": 2,
              "version_minor": 0,
              "model_id": "dcc9e813d8494929b30f2832a422e6e1"
            }
          },
          "metadata": {}
        },
        {
          "output_type": "display_data",
          "data": {
            "text/plain": [
              "test-00000-of-00001.parquet:   0%|          | 0.00/23.8M [00:00<?, ?B/s]"
            ],
            "application/vnd.jupyter.widget-view+json": {
              "version_major": 2,
              "version_minor": 0,
              "model_id": "7a51179544b04b55bb5707c1061c176f"
            }
          },
          "metadata": {}
        },
        {
          "output_type": "display_data",
          "data": {
            "text/plain": [
              "Generating train split:   0%|          | 0/50000 [00:00<?, ? examples/s]"
            ],
            "application/vnd.jupyter.widget-view+json": {
              "version_major": 2,
              "version_minor": 0,
              "model_id": "d49c6e48577a4b7e96ff381a31e80eff"
            }
          },
          "metadata": {}
        },
        {
          "output_type": "display_data",
          "data": {
            "text/plain": [
              "Generating test split:   0%|          | 0/10000 [00:00<?, ? examples/s]"
            ],
            "application/vnd.jupyter.widget-view+json": {
              "version_major": 2,
              "version_minor": 0,
              "model_id": "e375da9d138a4260a2c7b996541a7346"
            }
          },
          "metadata": {}
        }
      ]
    },
    {
      "cell_type": "code",
      "source": [
        "import evaluate\n",
        "\n",
        "metric = evaluate.load(\"accuracy\")"
      ],
      "metadata": {
        "id": "vQkFJSgqPv75",
        "colab": {
          "base_uri": "https://localhost:8080/",
          "height": 49,
          "referenced_widgets": [
            "f08dee01e0624c4a8ef3bec0add061ff",
            "b865e7c2936648ea86aaf3869b662831",
            "4513f4bcd5f04d1ea15ef641cfba4be8",
            "68d4853624f54ebe890cfe005adbe83c",
            "90a6aea97fcb44a2a591db56878db7ef",
            "96bafa7ad6824e71ad9f4454721560d7",
            "881ad3ed769c4b49a4725562d50478c5",
            "a774258cd779478f88c0d5d0a36e3bf3",
            "26add0fd3c8d4eaa80ef9cf96018527f",
            "3f5209d4627d47fdb466b98114aa6d93",
            "2ec881aae6f54a1eb981ee0ce18b533d"
          ]
        },
        "outputId": "f6641ae1-ae1f-4d0b-b0ff-7c901aa1cd94"
      },
      "execution_count": 4,
      "outputs": [
        {
          "output_type": "display_data",
          "data": {
            "text/plain": [
              "Downloading builder script:   0%|          | 0.00/4.20k [00:00<?, ?B/s]"
            ],
            "application/vnd.jupyter.widget-view+json": {
              "version_major": 2,
              "version_minor": 0,
              "model_id": "f08dee01e0624c4a8ef3bec0add061ff"
            }
          },
          "metadata": {}
        }
      ]
    },
    {
      "cell_type": "code",
      "source": [
        "label2id = {label: idx for idx, label in enumerate(cifar_100_ds[\"train\"].features[\"fine_label\"].names)}\n",
        "id2label = {idx: label for label, idx in label2id.items()}"
      ],
      "metadata": {
        "id": "hwmF4elGP9PE"
      },
      "execution_count": 6,
      "outputs": []
    },
    {
      "cell_type": "markdown",
      "source": [
        "# Pre-process Dataset"
      ],
      "metadata": {
        "id": "U2_u9yXYQG7r"
      }
    },
    {
      "cell_type": "markdown",
      "source": [
        "Note: Data augmentation is much more important for Vision Transformers than CNNs."
      ],
      "metadata": {
        "id": "9HWygSwIQIWG"
      }
    },
    {
      "cell_type": "code",
      "source": [
        "from transformers import AutoImageProcessor\n",
        "\n",
        "image_processor = AutoImageProcessor.from_pretrained(model_checkpt) # Make sure image resize is apppropriate for model\n",
        "\n",
        "image_processor"
      ],
      "metadata": {
        "colab": {
          "base_uri": "https://localhost:8080/",
          "height": 537,
          "referenced_widgets": [
            "6ee8cbd4b5134517b87a8ad0ae540161",
            "4b35c6755f794ee29d2f8d0d92566709",
            "400da9f1cd804abd97d441ab8736e914",
            "8788964749c1493383051a2fda2ef3fa",
            "1280395b1ca848a78d49fd34147c5717",
            "d2d6170587404152a7bcc509935100b8",
            "ba229dc60e9148058f5eff25d26f164c",
            "1c3d1d11b35041e4b754bbb369a6c095",
            "8e2d0a3d0e534ae2a1d1d299a2bf8505",
            "fbaf8c24bf104a6a9eedbfd2de846abd",
            "c7b1252a02f348b8870a449025560d50",
            "da5a0d04f4f84b078ebb9ed8caea06a5",
            "8eba03ae677c48e196f4524904bfce96",
            "1ba84e3a1f5a4812bddcf42440fe1917",
            "ee02271d895f4d03850299be888838b0",
            "d5ecbc39c7544367aada7e4a283e766f",
            "0da0b5da1af34a77b2206e5cee447502",
            "4dc821be3c02474f9dc586eb81eb852c",
            "ceef67e2d7864dc3be06157b7865252f",
            "b6864d1623494608b2202966dc56fbdf",
            "64b6a02ddccd4d74a9b381885d416257",
            "cfaa2bd95b9b474081b64cef6bb71489"
          ]
        },
        "id": "n9F8wnFVQcwB",
        "outputId": "72cf07a7-3bff-4d76-daa2-a5f881678928"
      },
      "execution_count": 7,
      "outputs": [
        {
          "output_type": "display_data",
          "data": {
            "text/plain": [
              "preprocessor_config.json:   0%|          | 0.00/160 [00:00<?, ?B/s]"
            ],
            "application/vnd.jupyter.widget-view+json": {
              "version_major": 2,
              "version_minor": 0,
              "model_id": "6ee8cbd4b5134517b87a8ad0ae540161"
            }
          },
          "metadata": {}
        },
        {
          "output_type": "display_data",
          "data": {
            "text/plain": [
              "config.json:   0%|          | 0.00/502 [00:00<?, ?B/s]"
            ],
            "application/vnd.jupyter.widget-view+json": {
              "version_major": 2,
              "version_minor": 0,
              "model_id": "da5a0d04f4f84b078ebb9ed8caea06a5"
            }
          },
          "metadata": {}
        },
        {
          "output_type": "stream",
          "name": "stderr",
          "text": [
            "Fast image processor class <class 'transformers.models.vit.image_processing_vit_fast.ViTImageProcessorFast'> is available for this model. Using slow image processor class. To use the fast image processor class set `use_fast=True`.\n"
          ]
        },
        {
          "output_type": "execute_result",
          "data": {
            "text/plain": [
              "ViTImageProcessor {\n",
              "  \"do_convert_rgb\": null,\n",
              "  \"do_normalize\": true,\n",
              "  \"do_rescale\": true,\n",
              "  \"do_resize\": true,\n",
              "  \"image_mean\": [\n",
              "    0.5,\n",
              "    0.5,\n",
              "    0.5\n",
              "  ],\n",
              "  \"image_processor_type\": \"ViTImageProcessor\",\n",
              "  \"image_std\": [\n",
              "    0.5,\n",
              "    0.5,\n",
              "    0.5\n",
              "  ],\n",
              "  \"resample\": 2,\n",
              "  \"rescale_factor\": 0.00392156862745098,\n",
              "  \"size\": {\n",
              "    \"height\": 224,\n",
              "    \"width\": 224\n",
              "  }\n",
              "}"
            ]
          },
          "metadata": {},
          "execution_count": 7
        }
      ]
    },
    {
      "cell_type": "code",
      "source": [
        "from torchvision.transforms import (\n",
        "    CenterCrop,\n",
        "    Compose,\n",
        "    Normalize,\n",
        "    RandomHorizontalFlip,\n",
        "    RandomResizedCrop,\n",
        "    Resize,\n",
        "    ToTensor,\n",
        ")\n",
        "\n",
        "normalize = Normalize(mean=image_processor.image_mean, std=image_processor.image_std) # Normalize color channels\n",
        "\n",
        "if \"height\" in image_processor.size: # Crop images to size model expects\n",
        "    size = (image_processor.size[\"height\"], image_processor.size[\"width\"])\n",
        "    crop_size = size\n",
        "    max_size = None\n",
        "\n",
        "elif \"shortest_edge\" in image_processor.size:\n",
        "    size = image_processor.size[\"shortest_edge\"]\n",
        "    crop_size = (size, size)\n",
        "    max_size = image_processor.size.get(\"longest_edge\")\n",
        "\n",
        "\n",
        "train_transforms = Compose(\n",
        "    [\n",
        "        RandomResizedCrop(crop_size),\n",
        "        RandomHorizontalFlip(),\n",
        "        ToTensor(),\n",
        "        normalize,\n",
        "    ]\n",
        ")\n",
        "\n",
        "validation_transforms = Compose(\n",
        "    [\n",
        "        Resize(size),\n",
        "        CenterCrop(crop_size),\n",
        "        ToTensor(),\n",
        "        normalize,\n",
        "    ]\n",
        ")"
      ],
      "metadata": {
        "id": "iERtHBthQOa4"
      },
      "execution_count": 8,
      "outputs": []
    },
    {
      "cell_type": "code",
      "source": [
        "def preprocess_train(example_batch):\n",
        "    \"\"\"\n",
        "    Apply transformations to images in batch\n",
        "    \"\"\"\n",
        "    example_batch[\"pixel_values\"] = [train_transforms(image.convert(\"RGB\")) for image in example_batch[\"img\"]]\n",
        "    return example_batch\n",
        "\n",
        "def preprocess_validation(example_batch):\n",
        "    \"\"\"\n",
        "    Apply transformations to images in batch\n",
        "    \"\"\"\n",
        "    example_batch[\"pixel_values\"] = [validation_transforms(image.convert(\"RGB\")) for image in example_batch[\"img\"]]\n",
        "    return example_batch"
      ],
      "metadata": {
        "id": "p-rtOrxdReF0"
      },
      "execution_count": 9,
      "outputs": []
    },
    {
      "cell_type": "code",
      "source": [
        "# Apply transformations to dataset\n",
        "\n",
        "splits = cifar_100_ds[\"train\"].train_test_split(test_size=0.2)\n",
        "\n",
        "train_ds = splits[\"train\"]\n",
        "val_ds = splits[\"test\"]\n",
        "\n",
        "train_ds.set_transform(preprocess_train) # Set_transform only applies when images loaded into RAM, so better to use than map\n",
        "val_ds.set_transform(preprocess_validation)"
      ],
      "metadata": {
        "id": "AnKehxeKR16-"
      },
      "execution_count": 10,
      "outputs": []
    },
    {
      "cell_type": "code",
      "source": [
        "train_ds[0] # Make sure pixel values feature has been added"
      ],
      "metadata": {
        "colab": {
          "base_uri": "https://localhost:8080/"
        },
        "id": "Yw5ABP19YVEb",
        "outputId": "fd2a5b5b-fdb7-4fd6-d96a-d2b724a5fde9"
      },
      "execution_count": 11,
      "outputs": [
        {
          "output_type": "execute_result",
          "data": {
            "text/plain": [
              "{'img': <PIL.PngImagePlugin.PngImageFile image mode=RGB size=32x32>,\n",
              " 'fine_label': 21,\n",
              " 'coarse_label': 11,\n",
              " 'pixel_values': tensor([[[-0.2784, -0.2784, -0.2784,  ..., -0.2627, -0.2627, -0.2627],\n",
              "          [-0.2784, -0.2784, -0.2784,  ..., -0.2627, -0.2627, -0.2627],\n",
              "          [-0.2784, -0.2784, -0.2784,  ..., -0.2627, -0.2627, -0.2627],\n",
              "          ...,\n",
              "          [-0.9451, -0.9451, -0.9451,  ..., -0.7725, -0.7725, -0.7725],\n",
              "          [-0.9451, -0.9451, -0.9451,  ..., -0.7725, -0.7725, -0.7725],\n",
              "          [-0.9451, -0.9451, -0.9451,  ..., -0.7725, -0.7725, -0.7725]],\n",
              " \n",
              "         [[-0.3255, -0.3255, -0.3255,  ..., -0.4824, -0.4824, -0.4824],\n",
              "          [-0.3255, -0.3255, -0.3255,  ..., -0.4824, -0.4824, -0.4824],\n",
              "          [-0.3255, -0.3255, -0.3255,  ..., -0.4824, -0.4824, -0.4824],\n",
              "          ...,\n",
              "          [-1.0000, -1.0000, -1.0000,  ..., -0.7569, -0.7569, -0.7569],\n",
              "          [-1.0000, -1.0000, -1.0000,  ..., -0.7569, -0.7569, -0.7569],\n",
              "          [-1.0000, -1.0000, -1.0000,  ..., -0.7569, -0.7569, -0.7569]],\n",
              " \n",
              "         [[-0.4510, -0.4510, -0.4510,  ..., -0.7490, -0.7490, -0.7490],\n",
              "          [-0.4510, -0.4510, -0.4510,  ..., -0.7490, -0.7490, -0.7490],\n",
              "          [-0.4510, -0.4510, -0.4510,  ..., -0.7490, -0.7490, -0.7490],\n",
              "          ...,\n",
              "          [-1.0000, -1.0000, -1.0000,  ..., -0.9137, -0.9137, -0.9137],\n",
              "          [-1.0000, -1.0000, -1.0000,  ..., -0.9137, -0.9137, -0.9137],\n",
              "          [-1.0000, -1.0000, -1.0000,  ..., -0.9137, -0.9137, -0.9137]]])}"
            ]
          },
          "metadata": {},
          "execution_count": 11
        }
      ]
    },
    {
      "cell_type": "markdown",
      "source": [
        "# Fine Tuning"
      ],
      "metadata": {
        "id": "AEsDiZ57SNgu"
      }
    },
    {
      "cell_type": "markdown",
      "source": [
        "## Load Model"
      ],
      "metadata": {
        "id": "cbHLlBOBVmRO"
      }
    },
    {
      "cell_type": "code",
      "source": [
        "from transformers import AutoModelForImageClassification, TrainingArguments, Trainer\n",
        "\n",
        "model = AutoModelForImageClassification.from_pretrained( # Load model\n",
        "    model_checkpt,\n",
        "    label2id=label2id,\n",
        "    id2label=id2label,\n",
        "    ignore_mismatched_sizes=True, # Need b/c fine-tuning from already fine-tuned model checkpoint\n",
        "    num_labels=100, # Number of labels to be classified\n",
        ")"
      ],
      "metadata": {
        "colab": {
          "base_uri": "https://localhost:8080/"
        },
        "id": "_m35VNd9SOe6",
        "outputId": "a6822c13-9c4f-4012-ba0b-3939fcaeed12"
      },
      "execution_count": 23,
      "outputs": [
        {
          "output_type": "stream",
          "name": "stderr",
          "text": [
            "Some weights of ViTForImageClassification were not initialized from the model checkpoint at google/vit-base-patch16-224-in21k and are newly initialized: ['classifier.bias', 'classifier.weight']\n",
            "You should probably TRAIN this model on a down-stream task to be able to use it for predictions and inference.\n"
          ]
        }
      ]
    },
    {
      "cell_type": "markdown",
      "source": [
        "## Set Hyperparameters"
      ],
      "metadata": {
        "id": "_SY6pEEGVnoq"
      }
    },
    {
      "cell_type": "code",
      "source": [
        "from logging import log\n",
        "model_name = model_checkpt.split(\"/\")[-1] # Remove google/ part for finetuned model name\n",
        "\n",
        "output_dir = f\"{model_name}-finetuned-cifar100\"\n",
        "batch_size = 32 # Increase to speed up training & evaluation\n",
        "logging_steps = 10 # Get more granular updates\n",
        "\n",
        "training_args = TrainingArguments(\n",
        "    output_dir=output_dir,\n",
        "    remove_unused_columns=False, # Need b/c image column is necessary to create pixel values\n",
        "    eval_strategy=\"epoch\",\n",
        "    save_strategy=\"epoch\", # Save model at each epoch\n",
        "    lr_scheduler_type=\"linear\",\n",
        "    learning_rate=5e-5,\n",
        "    per_device_train_batch_size=batch_size,\n",
        "    gradient_accumulation_steps=4, # Speeds up training\n",
        "    per_device_eval_batch_size=batch_size,\n",
        "    num_train_epochs=6, # Need more epochs than CIFAR-10 b/c more complicated\n",
        "    warmup_ratio=0.1, # 10% of training steps to increase learning rate to desired amount\n",
        "    logging_steps=logging_steps,\n",
        "    disable_tqdm=False,\n",
        "    report_to=\"none\", # Disable WandB logging\n",
        "    load_best_model_at_end=True,\n",
        "    metric_for_best_model=\"accuracy\",\n",
        "    fp16=True, # Speeds up training\n",
        ")"
      ],
      "metadata": {
        "id": "g2FUCZ0TSZ4B"
      },
      "execution_count": 20,
      "outputs": []
    },
    {
      "cell_type": "markdown",
      "source": [
        "## Define Accuracy and Collation Functions"
      ],
      "metadata": {
        "id": "8PVIySzTVqxk"
      }
    },
    {
      "cell_type": "code",
      "source": [
        "import numpy as np\n",
        "\n",
        "def compute_metrics(eval_pred):\n",
        "    \"\"\"\n",
        "    Compute accuracy metrics on a batch of predictions\n",
        "    \"\"\"\n",
        "    predictions, labels = eval_pred\n",
        "    predictions = np.argmax(predictions, axis=1)\n",
        "\n",
        "    return metric.compute(predictions=predictions, references=labels)"
      ],
      "metadata": {
        "id": "Edp_uRDtU7kc"
      },
      "execution_count": 21,
      "outputs": []
    },
    {
      "cell_type": "code",
      "source": [
        "import torch\n",
        "\n",
        "def collate(examples: list):\n",
        "  \"\"\"\n",
        "  Create batches\n",
        "  \"\"\"\n",
        "\n",
        "  # Stack all pixel values into single tensor\n",
        "  pixel_values = torch.stack([example[\"pixel_values\"] for example in examples])\n",
        "\n",
        "  # Extract labels from each example\n",
        "  labels = torch.tensor([example[\"fine_label\"] for example in examples])\n",
        "\n",
        "  return {\"pixel_values\": pixel_values, \"labels\": labels}"
      ],
      "metadata": {
        "id": "5tShOt7ZVFcF"
      },
      "execution_count": 22,
      "outputs": []
    },
    {
      "cell_type": "markdown",
      "source": [
        "## Train and Evaluate Model"
      ],
      "metadata": {
        "id": "Llv3xzXZVv9T"
      }
    },
    {
      "cell_type": "code",
      "source": [
        "trainer = Trainer(\n",
        "    model,\n",
        "    args=training_args,\n",
        "    train_dataset=train_ds,\n",
        "    eval_dataset=val_ds,\n",
        "    processing_class=image_processor, # Make sure image processor JSON config is saved w/ model\n",
        "    compute_metrics=compute_metrics,\n",
        "    data_collator=collate\n",
        ")\n",
        "\n",
        "trainer.train()"
      ],
      "metadata": {
        "id": "GsGWeNLiVxuz"
      },
      "execution_count": null,
      "outputs": []
    },
    {
      "cell_type": "markdown",
      "source": [
        "# Upload model to Hugging Face Hub"
      ],
      "metadata": {
        "id": "jcxPBicTfXHV"
      }
    },
    {
      "cell_type": "code",
      "source": [
        "from huggingface_hub import notebook_login\n",
        "\n",
        "notebook_login() # Login to account"
      ],
      "metadata": {
        "colab": {
          "base_uri": "https://localhost:8080/",
          "height": 17,
          "referenced_widgets": [
            "229087d0324e423f9af84f5d06781186",
            "0ae540678e914f46b54203c2c960c225",
            "f05d57be69fa42d6b25e6943e909cf04",
            "24f6d7f719e34ed2ab127b99f87e78b4",
            "b81b6ca9d04d42c58528605d1ba9e13e",
            "da2897c2707642ffac1afa0248ba53ae",
            "e8e1ba7f7d9842119019a62ca45f5d42",
            "2494e5146aec41c684128bee7164e278",
            "96701cbe86bb4fa4bcb8e3ebf4108c8c",
            "02b580d5d0094419b15175462a66991b",
            "697698c5b55b4f18a3d188c0355e50d6",
            "dca2aa313dd2437181316b5a93eb3a4e",
            "4bd885658a594f5484ddeac7e58c9fd0",
            "e024a1481ab646fc8b8bfabcde8420c7",
            "48582773090d476384476588bcf7f4ea",
            "bf6055344f3c4a5b938711e4f70bb406",
            "0b66b879594b4604beae026e58cb6ff8",
            "c6ce7631a9ee42e2a7bf699b0abab2b1",
            "8215267d2d1949e1a81069204310bb66",
            "5489164e02344daf9139d5b79bef52e3"
          ]
        },
        "id": "hk9AiB1ofYoo",
        "outputId": "a3eca817-8fd3-413c-f700-c175c510f510"
      },
      "execution_count": 28,
      "outputs": [
        {
          "output_type": "display_data",
          "data": {
            "text/plain": [
              "VBox(children=(HTML(value='<center> <img\\nsrc=https://huggingface.co/front/assets/huggingface_logo-noborder.sv…"
            ],
            "application/vnd.jupyter.widget-view+json": {
              "version_major": 2,
              "version_minor": 0,
              "model_id": "229087d0324e423f9af84f5d06781186"
            }
          },
          "metadata": {}
        }
      ]
    },
    {
      "cell_type": "code",
      "source": [
        "kwargs = {\n",
        "    \"dataset_tags\": \"cifar-100\",\n",
        "    \"dataset\": \"cifar-100\",\n",
        "}\n",
        "\n",
        "trainer.push_to_hub(commit_message=\"Train cifar 100 model\", **kwargs)"
      ],
      "metadata": {
        "colab": {
          "base_uri": "https://localhost:8080/",
          "height": 204,
          "referenced_widgets": [
            "145c184592cf4206a32a643f9f70e21a",
            "260efbf9d4f24269bef0cb271c77bd1b",
            "97ba429802a24bdd890067e21d2b12ff",
            "162401e76a264feebafeedfc808e7333",
            "f829dc1da6694a0091d202a3e0fd3d8b",
            "d8a8d2c99e95456a991a24697588b4a9",
            "b4ce34c307da4221bdc7edd82b53a528",
            "0b127ea87bd4402096c954cf4c654030",
            "3e82ede1e1d9426b8fab07b1ad0e60d5",
            "94c74d5614e2402aba71aac990c88c9d",
            "488bff51a19e4cdab15a12acb324a89b",
            "e769a1a2d98c45a786295b6f32cd445f",
            "74e82575cb70426889a4cfd35d9c3b0e",
            "6c6fcadf790f46d7aa82cd1162b5781f",
            "3b2ebc4ad186417abd1a9c73b73f6dc2",
            "ad4821179a86439190e18d3da5c056fa",
            "19dc3ab7fa1e4ad38a8de73e9dbae782",
            "09420cb0fc7a484c9222662b7f06fc65",
            "3a3d735207d645159f35c3312fe90486",
            "717838102d124354b2e55ba4e9141406",
            "8712bbe225544e058fe4cca2deea3ed7",
            "b4317b91af9944c08f4c4ce7b62efc4a",
            "fa32995d2e314424b476d0f6fe2481cd",
            "0a719604514e4a50b8ccd83262e21006",
            "395c5d5ea7394cf48eab12f8e683144a",
            "66a7de7c67104a70b16677ad10178b4d",
            "53c313b1ffed4e6097947d286ea1a291",
            "a331a2c8f23f411ba90baae97b96f8a7",
            "7e434fccf3324d6a8d7ebc0771d692fb",
            "00c6e755abb243d3ae7fbb55e20dc264",
            "6dea9924faba458a872cbde5b4eed7db",
            "084d0e31ed404ee0b8c72acd1952e0f8",
            "4ec050e4e530476e95fdd3b5a3f868d1"
          ]
        },
        "id": "Z1bic0y-fbdN",
        "outputId": "65036ced-e0ef-41a8-a972-3fed65d7c0ea"
      },
      "execution_count": 29,
      "outputs": [
        {
          "output_type": "display_data",
          "data": {
            "text/plain": [
              "model.safetensors:   0%|          | 0.00/344M [00:00<?, ?B/s]"
            ],
            "application/vnd.jupyter.widget-view+json": {
              "version_major": 2,
              "version_minor": 0,
              "model_id": "145c184592cf4206a32a643f9f70e21a"
            }
          },
          "metadata": {}
        },
        {
          "output_type": "display_data",
          "data": {
            "text/plain": [
              "Upload 2 LFS files:   0%|          | 0/2 [00:00<?, ?it/s]"
            ],
            "application/vnd.jupyter.widget-view+json": {
              "version_major": 2,
              "version_minor": 0,
              "model_id": "e769a1a2d98c45a786295b6f32cd445f"
            }
          },
          "metadata": {}
        },
        {
          "output_type": "display_data",
          "data": {
            "text/plain": [
              "training_args.bin:   0%|          | 0.00/5.37k [00:00<?, ?B/s]"
            ],
            "application/vnd.jupyter.widget-view+json": {
              "version_major": 2,
              "version_minor": 0,
              "model_id": "fa32995d2e314424b476d0f6fe2481cd"
            }
          },
          "metadata": {}
        },
        {
          "output_type": "execute_result",
          "data": {
            "text/plain": [
              "CommitInfo(commit_url='https://huggingface.co/avanishd/vit-base-patch16-224-in21k-finetuned-cifar100/commit/88346020cc1dc384983fbbfc02f5a92576c10ab5', commit_message='Train cifar 100 model', commit_description='', oid='88346020cc1dc384983fbbfc02f5a92576c10ab5', pr_url=None, repo_url=RepoUrl('https://huggingface.co/avanishd/vit-base-patch16-224-in21k-finetuned-cifar100', endpoint='https://huggingface.co', repo_type='model', repo_id='avanishd/vit-base-patch16-224-in21k-finetuned-cifar100'), pr_revision=None, pr_num=None)"
            ],
            "application/vnd.google.colaboratory.intrinsic+json": {
              "type": "string"
            }
          },
          "metadata": {},
          "execution_count": 29
        }
      ]
    }
  ]
}
