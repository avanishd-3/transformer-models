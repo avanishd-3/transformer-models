{
  "nbformat": 4,
  "nbformat_minor": 0,
  "metadata": {
    "colab": {
      "provenance": [],
      "toc_visible": true,
      "gpuType": "T4"
    },
    "kernelspec": {
      "name": "python3",
      "display_name": "Python 3"
    },
    "language_info": {
      "name": "python"
    },
    "accelerator": "GPU"
  },
  "cells": [
    {
      "cell_type": "markdown",
      "source": [
        "Doing named entity recognition (NER) in multiple languages\n",
        "\n",
        "Use XLM-RoBERTa (XLM-R) for multi-language stuff, because it is trained on Wikipedia for every available language and 2.5 TB of data from the Internet\n",
        "\n",
        "RoBERTa improved on BERT by removing the next sentence prediction task\n",
        "\n",
        "XLM-R uses the SentencePiece tokenizer (trained on 100 languages)"
      ],
      "metadata": {
        "id": "ddIpD0iYKVJh"
      }
    },
    {
      "cell_type": "code",
      "source": [
        "%pip install datasets\n",
        "%pip install seqeval"
      ],
      "metadata": {
        "colab": {
          "base_uri": "https://localhost:8080/"
        },
        "id": "HD0HCTagPQon",
        "outputId": "22c34cbb-8f75-434b-edbf-22d3b2af2af3"
      },
      "execution_count": 1,
      "outputs": [
        {
          "output_type": "stream",
          "name": "stdout",
          "text": [
            "Collecting datasets\n",
            "  Downloading datasets-3.5.0-py3-none-any.whl.metadata (19 kB)\n",
            "Requirement already satisfied: filelock in /usr/local/lib/python3.11/dist-packages (from datasets) (3.18.0)\n",
            "Requirement already satisfied: numpy>=1.17 in /usr/local/lib/python3.11/dist-packages (from datasets) (2.0.2)\n",
            "Requirement already satisfied: pyarrow>=15.0.0 in /usr/local/lib/python3.11/dist-packages (from datasets) (18.1.0)\n",
            "Collecting dill<0.3.9,>=0.3.0 (from datasets)\n",
            "  Downloading dill-0.3.8-py3-none-any.whl.metadata (10 kB)\n",
            "Requirement already satisfied: pandas in /usr/local/lib/python3.11/dist-packages (from datasets) (2.2.2)\n",
            "Requirement already satisfied: requests>=2.32.2 in /usr/local/lib/python3.11/dist-packages (from datasets) (2.32.3)\n",
            "Requirement already satisfied: tqdm>=4.66.3 in /usr/local/lib/python3.11/dist-packages (from datasets) (4.67.1)\n",
            "Collecting xxhash (from datasets)\n",
            "  Downloading xxhash-3.5.0-cp311-cp311-manylinux_2_17_x86_64.manylinux2014_x86_64.whl.metadata (12 kB)\n",
            "Collecting multiprocess<0.70.17 (from datasets)\n",
            "  Downloading multiprocess-0.70.16-py311-none-any.whl.metadata (7.2 kB)\n",
            "Collecting fsspec<=2024.12.0,>=2023.1.0 (from fsspec[http]<=2024.12.0,>=2023.1.0->datasets)\n",
            "  Downloading fsspec-2024.12.0-py3-none-any.whl.metadata (11 kB)\n",
            "Requirement already satisfied: aiohttp in /usr/local/lib/python3.11/dist-packages (from datasets) (3.11.15)\n",
            "Requirement already satisfied: huggingface-hub>=0.24.0 in /usr/local/lib/python3.11/dist-packages (from datasets) (0.30.1)\n",
            "Requirement already satisfied: packaging in /usr/local/lib/python3.11/dist-packages (from datasets) (24.2)\n",
            "Requirement already satisfied: pyyaml>=5.1 in /usr/local/lib/python3.11/dist-packages (from datasets) (6.0.2)\n",
            "Requirement already satisfied: aiohappyeyeballs>=2.3.0 in /usr/local/lib/python3.11/dist-packages (from aiohttp->datasets) (2.6.1)\n",
            "Requirement already satisfied: aiosignal>=1.1.2 in /usr/local/lib/python3.11/dist-packages (from aiohttp->datasets) (1.3.2)\n",
            "Requirement already satisfied: attrs>=17.3.0 in /usr/local/lib/python3.11/dist-packages (from aiohttp->datasets) (25.3.0)\n",
            "Requirement already satisfied: frozenlist>=1.1.1 in /usr/local/lib/python3.11/dist-packages (from aiohttp->datasets) (1.5.0)\n",
            "Requirement already satisfied: multidict<7.0,>=4.5 in /usr/local/lib/python3.11/dist-packages (from aiohttp->datasets) (6.3.1)\n",
            "Requirement already satisfied: propcache>=0.2.0 in /usr/local/lib/python3.11/dist-packages (from aiohttp->datasets) (0.3.1)\n",
            "Requirement already satisfied: yarl<2.0,>=1.17.0 in /usr/local/lib/python3.11/dist-packages (from aiohttp->datasets) (1.18.3)\n",
            "Requirement already satisfied: typing-extensions>=3.7.4.3 in /usr/local/lib/python3.11/dist-packages (from huggingface-hub>=0.24.0->datasets) (4.13.0)\n",
            "Requirement already satisfied: charset-normalizer<4,>=2 in /usr/local/lib/python3.11/dist-packages (from requests>=2.32.2->datasets) (3.4.1)\n",
            "Requirement already satisfied: idna<4,>=2.5 in /usr/local/lib/python3.11/dist-packages (from requests>=2.32.2->datasets) (3.10)\n",
            "Requirement already satisfied: urllib3<3,>=1.21.1 in /usr/local/lib/python3.11/dist-packages (from requests>=2.32.2->datasets) (2.3.0)\n",
            "Requirement already satisfied: certifi>=2017.4.17 in /usr/local/lib/python3.11/dist-packages (from requests>=2.32.2->datasets) (2025.1.31)\n",
            "Requirement already satisfied: python-dateutil>=2.8.2 in /usr/local/lib/python3.11/dist-packages (from pandas->datasets) (2.8.2)\n",
            "Requirement already satisfied: pytz>=2020.1 in /usr/local/lib/python3.11/dist-packages (from pandas->datasets) (2025.2)\n",
            "Requirement already satisfied: tzdata>=2022.7 in /usr/local/lib/python3.11/dist-packages (from pandas->datasets) (2025.2)\n",
            "Requirement already satisfied: six>=1.5 in /usr/local/lib/python3.11/dist-packages (from python-dateutil>=2.8.2->pandas->datasets) (1.17.0)\n",
            "Downloading datasets-3.5.0-py3-none-any.whl (491 kB)\n",
            "\u001b[2K   \u001b[90m━━━━━━━━━━━━━━━━━━━━━━━━━━━━━━━━━━━━━━━━\u001b[0m \u001b[32m491.2/491.2 kB\u001b[0m \u001b[31m10.5 MB/s\u001b[0m eta \u001b[36m0:00:00\u001b[0m\n",
            "\u001b[?25hDownloading dill-0.3.8-py3-none-any.whl (116 kB)\n",
            "\u001b[2K   \u001b[90m━━━━━━━━━━━━━━━━━━━━━━━━━━━━━━━━━━━━━━━━\u001b[0m \u001b[32m116.3/116.3 kB\u001b[0m \u001b[31m10.1 MB/s\u001b[0m eta \u001b[36m0:00:00\u001b[0m\n",
            "\u001b[?25hDownloading fsspec-2024.12.0-py3-none-any.whl (183 kB)\n",
            "\u001b[2K   \u001b[90m━━━━━━━━━━━━━━━━━━━━━━━━━━━━━━━━━━━━━━━━\u001b[0m \u001b[32m183.9/183.9 kB\u001b[0m \u001b[31m12.5 MB/s\u001b[0m eta \u001b[36m0:00:00\u001b[0m\n",
            "\u001b[?25hDownloading multiprocess-0.70.16-py311-none-any.whl (143 kB)\n",
            "\u001b[2K   \u001b[90m━━━━━━━━━━━━━━━━━━━━━━━━━━━━━━━━━━━━━━━━\u001b[0m \u001b[32m143.5/143.5 kB\u001b[0m \u001b[31m12.0 MB/s\u001b[0m eta \u001b[36m0:00:00\u001b[0m\n",
            "\u001b[?25hDownloading xxhash-3.5.0-cp311-cp311-manylinux_2_17_x86_64.manylinux2014_x86_64.whl (194 kB)\n",
            "\u001b[2K   \u001b[90m━━━━━━━━━━━━━━━━━━━━━━━━━━━━━━━━━━━━━━━━\u001b[0m \u001b[32m194.8/194.8 kB\u001b[0m \u001b[31m13.1 MB/s\u001b[0m eta \u001b[36m0:00:00\u001b[0m\n",
            "\u001b[?25hInstalling collected packages: xxhash, fsspec, dill, multiprocess, datasets\n",
            "  Attempting uninstall: fsspec\n",
            "    Found existing installation: fsspec 2025.3.2\n",
            "    Uninstalling fsspec-2025.3.2:\n",
            "      Successfully uninstalled fsspec-2025.3.2\n",
            "\u001b[31mERROR: pip's dependency resolver does not currently take into account all the packages that are installed. This behaviour is the source of the following dependency conflicts.\n",
            "torch 2.6.0+cu124 requires nvidia-cublas-cu12==12.4.5.8; platform_system == \"Linux\" and platform_machine == \"x86_64\", but you have nvidia-cublas-cu12 12.5.3.2 which is incompatible.\n",
            "torch 2.6.0+cu124 requires nvidia-cuda-cupti-cu12==12.4.127; platform_system == \"Linux\" and platform_machine == \"x86_64\", but you have nvidia-cuda-cupti-cu12 12.5.82 which is incompatible.\n",
            "torch 2.6.0+cu124 requires nvidia-cuda-nvrtc-cu12==12.4.127; platform_system == \"Linux\" and platform_machine == \"x86_64\", but you have nvidia-cuda-nvrtc-cu12 12.5.82 which is incompatible.\n",
            "torch 2.6.0+cu124 requires nvidia-cuda-runtime-cu12==12.4.127; platform_system == \"Linux\" and platform_machine == \"x86_64\", but you have nvidia-cuda-runtime-cu12 12.5.82 which is incompatible.\n",
            "torch 2.6.0+cu124 requires nvidia-cudnn-cu12==9.1.0.70; platform_system == \"Linux\" and platform_machine == \"x86_64\", but you have nvidia-cudnn-cu12 9.3.0.75 which is incompatible.\n",
            "torch 2.6.0+cu124 requires nvidia-cufft-cu12==11.2.1.3; platform_system == \"Linux\" and platform_machine == \"x86_64\", but you have nvidia-cufft-cu12 11.2.3.61 which is incompatible.\n",
            "torch 2.6.0+cu124 requires nvidia-curand-cu12==10.3.5.147; platform_system == \"Linux\" and platform_machine == \"x86_64\", but you have nvidia-curand-cu12 10.3.6.82 which is incompatible.\n",
            "torch 2.6.0+cu124 requires nvidia-cusolver-cu12==11.6.1.9; platform_system == \"Linux\" and platform_machine == \"x86_64\", but you have nvidia-cusolver-cu12 11.6.3.83 which is incompatible.\n",
            "torch 2.6.0+cu124 requires nvidia-cusparse-cu12==12.3.1.170; platform_system == \"Linux\" and platform_machine == \"x86_64\", but you have nvidia-cusparse-cu12 12.5.1.3 which is incompatible.\n",
            "torch 2.6.0+cu124 requires nvidia-nvjitlink-cu12==12.4.127; platform_system == \"Linux\" and platform_machine == \"x86_64\", but you have nvidia-nvjitlink-cu12 12.5.82 which is incompatible.\n",
            "gcsfs 2025.3.2 requires fsspec==2025.3.2, but you have fsspec 2024.12.0 which is incompatible.\u001b[0m\u001b[31m\n",
            "\u001b[0mSuccessfully installed datasets-3.5.0 dill-0.3.8 fsspec-2024.12.0 multiprocess-0.70.16 xxhash-3.5.0\n",
            "Collecting seqeval\n",
            "  Downloading seqeval-1.2.2.tar.gz (43 kB)\n",
            "\u001b[2K     \u001b[90m━━━━━━━━━━━━━━━━━━━━━━━━━━━━━━━━━━━━━━━━\u001b[0m \u001b[32m43.6/43.6 kB\u001b[0m \u001b[31m3.2 MB/s\u001b[0m eta \u001b[36m0:00:00\u001b[0m\n",
            "\u001b[?25h  Preparing metadata (setup.py) ... \u001b[?25l\u001b[?25hdone\n",
            "Requirement already satisfied: numpy>=1.14.0 in /usr/local/lib/python3.11/dist-packages (from seqeval) (2.0.2)\n",
            "Requirement already satisfied: scikit-learn>=0.21.3 in /usr/local/lib/python3.11/dist-packages (from seqeval) (1.6.1)\n",
            "Requirement already satisfied: scipy>=1.6.0 in /usr/local/lib/python3.11/dist-packages (from scikit-learn>=0.21.3->seqeval) (1.14.1)\n",
            "Requirement already satisfied: joblib>=1.2.0 in /usr/local/lib/python3.11/dist-packages (from scikit-learn>=0.21.3->seqeval) (1.4.2)\n",
            "Requirement already satisfied: threadpoolctl>=3.1.0 in /usr/local/lib/python3.11/dist-packages (from scikit-learn>=0.21.3->seqeval) (3.6.0)\n",
            "Building wheels for collected packages: seqeval\n",
            "  Building wheel for seqeval (setup.py) ... \u001b[?25l\u001b[?25hdone\n",
            "  Created wheel for seqeval: filename=seqeval-1.2.2-py3-none-any.whl size=16162 sha256=c11aa834a37934051524300e8592669d7ac8f6f5b2078202e897a2f3638671fc\n",
            "  Stored in directory: /root/.cache/pip/wheels/bc/92/f0/243288f899c2eacdfa8c5f9aede4c71a9bad0ee26a01dc5ead\n",
            "Successfully built seqeval\n",
            "Installing collected packages: seqeval\n",
            "Successfully installed seqeval-1.2.2\n"
          ]
        }
      ]
    },
    {
      "cell_type": "markdown",
      "source": [
        "# Sentence Piece Tokenization"
      ],
      "metadata": {
        "id": "agF_RwLXLCtO"
      }
    },
    {
      "cell_type": "code",
      "source": [
        "from transformers import AutoTokenizer\n",
        "\n",
        "xlm_r_model = \"xlm-roberta-base\"\n",
        "\n",
        "tokenizer = AutoTokenizer.from_pretrained(xlm_r_model)\n",
        "\n",
        "ex_text = \"This is some sample text!\"\n",
        "\n",
        "tokens = tokenizer(ex_text).tokens()\n",
        "\n",
        "print(tokens)"
      ],
      "metadata": {
        "colab": {
          "base_uri": "https://localhost:8080/",
          "height": 292,
          "referenced_widgets": [
            "b15953ea53904b249001c13b53179bf7",
            "b18954817bab4f7d82e1415dcbbaee37",
            "16793bb0845b4669b22d423a098e6ea5",
            "764a3aeaaaf748d1809cdb678c479e9a",
            "3e6f30d41fc3479489f6f56380486b01",
            "9f48e6bde5ab412c8050a0f349e6e8d3",
            "b396cb87963a483a9e6502ea0b37563e",
            "374e37519bc548bf9568732ed3e2e17f",
            "4cb5e7560e1e47c4a348f3ced0b86022",
            "7c30d2ea63c043018762338ab92d1241",
            "fd7f1bf3155d4911b284446469216e73",
            "d069aa2f6f0a4e8db8cc2da244159ca0",
            "997469439a704d299726ee37d10e318b",
            "6019a3cd04b84d0083bcad9bac6d6f46",
            "04c547d0ac6b4791badb8cd0f625febc",
            "ed64540e5bca493085fc43f60e0a2c81",
            "9e2a3fe22f7243e4adbd06a6a4a99462",
            "cae8085f95b24334b1490a14f9117c76",
            "29890a33e2da422a90e0d3c93fe001f7",
            "fc51fa3ab4284d3db6307d561676e939",
            "1d7b403396324a3692a6b5ce57fbaad2",
            "e22cd5bb11b246dfbaa3eb15d6aa1154",
            "1b73b1acf2c748699914389d62be7b27",
            "23698ae04d0246b7a77708256a6a9d6c",
            "0d0879c7fcf2446c86fc9bfa5054deea",
            "41c6fcef6dd94b6880c6c2bdbb5cf8d3",
            "c3e9c75e681c471e95a8cc76c0cc5e3d",
            "0dad399b30e541ecb4f239c48ee7e411",
            "f14829415fbd46388434e294ad28bd81",
            "6e81607dcf2c426d88b067df8067d2ca",
            "96b1dcfadf654fa582179dfc6f797306",
            "bd1eadb187e7459b80917c9548184851",
            "f81543c8a84e4a5ea059f38437d602bc",
            "6d3be4db68314863805603c5397b4c62",
            "159fb57ed8cc4c0b92af4e64cf0b6f1a",
            "a5d4bc0f4f2e44e5b55fcc7f8ef8348d",
            "0e250f0d2ade4520a5f0faa6e669524d",
            "ae31d9deea8f4712ae91e88d6deb0898",
            "d88272b7bf86417abcfa666d5a68a88f",
            "89c8b6f6ab0e47ac8330addcf6fb7f3c",
            "5553c775abde4f9a82596320a45859f7",
            "5cace59bf00c4f0e96a771738bce9f4b",
            "bcef53f32fc84b9e869fee8da62d988b",
            "e7310a07c2cb4bcbbcb677a87292f79a"
          ]
        },
        "id": "eOpPIVB5LFMN",
        "outputId": "3e11daea-2a1d-4d06-d904-880a055a53d7"
      },
      "execution_count": 2,
      "outputs": [
        {
          "output_type": "stream",
          "name": "stderr",
          "text": [
            "/usr/local/lib/python3.11/dist-packages/huggingface_hub/utils/_auth.py:94: UserWarning: \n",
            "The secret `HF_TOKEN` does not exist in your Colab secrets.\n",
            "To authenticate with the Hugging Face Hub, create a token in your settings tab (https://huggingface.co/settings/tokens), set it as secret in your Google Colab and restart your session.\n",
            "You will be able to reuse this secret in all of your notebooks.\n",
            "Please note that authentication is recommended but still optional to access public models or datasets.\n",
            "  warnings.warn(\n"
          ]
        },
        {
          "output_type": "display_data",
          "data": {
            "text/plain": [
              "tokenizer_config.json:   0%|          | 0.00/25.0 [00:00<?, ?B/s]"
            ],
            "application/vnd.jupyter.widget-view+json": {
              "version_major": 2,
              "version_minor": 0,
              "model_id": "b15953ea53904b249001c13b53179bf7"
            }
          },
          "metadata": {}
        },
        {
          "output_type": "display_data",
          "data": {
            "text/plain": [
              "config.json:   0%|          | 0.00/615 [00:00<?, ?B/s]"
            ],
            "application/vnd.jupyter.widget-view+json": {
              "version_major": 2,
              "version_minor": 0,
              "model_id": "d069aa2f6f0a4e8db8cc2da244159ca0"
            }
          },
          "metadata": {}
        },
        {
          "output_type": "display_data",
          "data": {
            "text/plain": [
              "sentencepiece.bpe.model:   0%|          | 0.00/5.07M [00:00<?, ?B/s]"
            ],
            "application/vnd.jupyter.widget-view+json": {
              "version_major": 2,
              "version_minor": 0,
              "model_id": "1b73b1acf2c748699914389d62be7b27"
            }
          },
          "metadata": {}
        },
        {
          "output_type": "display_data",
          "data": {
            "text/plain": [
              "tokenizer.json:   0%|          | 0.00/9.10M [00:00<?, ?B/s]"
            ],
            "application/vnd.jupyter.widget-view+json": {
              "version_major": 2,
              "version_minor": 0,
              "model_id": "6d3be4db68314863805603c5397b4c62"
            }
          },
          "metadata": {}
        },
        {
          "output_type": "stream",
          "name": "stdout",
          "text": [
            "['<s>', '▁This', '▁is', '▁some', '▁sample', '▁text', '!', '</s>']\n"
          ]
        }
      ]
    },
    {
      "cell_type": "markdown",
      "source": [
        "# Look at Dataset\n",
        "\n",
        "Using WIKIANN / PANN-X (Wikipedia articles in many languages)"
      ],
      "metadata": {
        "id": "_ebyD80KNVJK"
      }
    },
    {
      "cell_type": "code",
      "source": [
        "from datasets import load_dataset\n",
        "from datasets import DatasetDict\n",
        "\n",
        "from collections import defaultdict # Dict with no KeyError exceptions\n",
        "\n",
        "langs_used = [\"de\", \"fr\", \"en\", \"it\"]\n",
        "lang_proportions = [0.6, 0.2, 0.1, 0.1]\n",
        "\n",
        "pan_x_dataset = defaultdict(DatasetDict)\n",
        "\n",
        "# Create dataset with all selected languages\n",
        "\n",
        "for (lang, prop) in zip(langs_used, lang_proportions):\n",
        "    # Load dataset for individual language\n",
        "    dataset = load_dataset(\"xtreme\", name=f\"PAN-X.{lang}\")\n",
        "\n",
        "    # Shuffle and split according to proportion\n",
        "    for split in dataset:\n",
        "        pan_x_dataset[lang][split] = dataset[split].shuffle().select(range(int(prop * dataset[split].num_rows)))\n",
        "\n"
      ],
      "metadata": {
        "colab": {
          "base_uri": "https://localhost:8080/",
          "height": 817,
          "referenced_widgets": [
            "69652f02fb0d45a19de1d7f05b6da8cc",
            "1b86279c226a46bf9d4c1f3f57a017f8",
            "b63b479c08aa48d3b1230a22504acf6b",
            "8ff1a5f973094220b0e1d19bc037e04e",
            "bd736acef77f454aae55f5b800b83983",
            "742b3fdcdb0943e9a937872707963167",
            "39bf41b130dc4a1ba626ae0448cba773",
            "c405b11fbd7e4066b19cb2314ae21fef",
            "651ac8d7cff642fb93cbd804bcb5065e",
            "fb54675f8f234e6ab94b88eaa630022b",
            "a7727efb3791478bb9b9b33acdf97277",
            "3235e7c40ff143748f97fb2c8b98fded",
            "74cead5182ff4759abbd260f666ed959",
            "6a4c110f97b74ca797240e9f8e8d8a29",
            "bf8eb6b6316e4b05bbdbf89f11886bb0",
            "c3e0a2a066804fc8b6556c3ed49b8980",
            "e7997b91363b48d1aaa30f6330db5a4e",
            "0775d4c396344c1284c347a1066ed62a",
            "d0da4ff04b0643a7b743ef3a2790131e",
            "733d154352a14da7931adf2ef1723ad2",
            "501aa5e13d0d48078aaf8e9393e9b803",
            "70ded6ee17414f4e8819524234e0b0bd",
            "3b9841e969bc4d1bae9e851d1edf14b6",
            "e0ba7e1a6aba4be2b31a7831a99b8738",
            "d2b05d1494804eea8cb999fba135c33f",
            "b1340060c9b24c39acc6da2130c572c1",
            "500daf05607646ff803dc82239f5db69",
            "c11118af83784ff4b470a1bcdd230086",
            "b9c9d070d9de4c5b86d3ab3eaf2d3171",
            "36a2f154923944afbb2230669aee27ab",
            "7c7e8c0fa0c843a9835a322b8889c0e9",
            "e10db81cb1de4fd7887f4b3f895e65dd",
            "15ce578ed1ff45a18c099ce5629dc82a",
            "6ab533f9f2e7491fb25170fa619f451a",
            "eb93ea1a78c44f949bd22e55ae617c72",
            "6988bba412b146f29ba8115a48c12068",
            "8ee6752befdb42e6bc77d7b187fcb7bf",
            "a5748328ddcd4bc68cbf08f6a8a769d3",
            "fc30a03927dc4e9fadf1f8207cc18551",
            "f5d8221fa6c245c38129012bb2a41389",
            "803a9178357f4d0499f0f09acf7df9c9",
            "48271885670a4044b77044257e926c3a",
            "733738a01f6a4293a1063768f9640bb5",
            "86db7b8f0ed049e4a7a788bd6a34003c",
            "4f0c24e4a341400fac2748bd3c89b16d",
            "bdb14bc2dbb246ffae5ced5252c44ff5",
            "6e3f6489047443f8925397c61ae829dd",
            "c7bc1c26b74b4342bc5fbac90748ab54",
            "3e9052e41a4749e886c63be1bf5a1f89",
            "a8a420c485694fcca97ba063a937a87a",
            "fde2dc31ed5a4e9e9cb759779362ed89",
            "6f1b0a3de7c34f8fa305bb547c6d0b28",
            "4a70ef294a724a1da03f33faed2b1298",
            "185c609efc394c4b8293c51c4a274526",
            "ffdd9255c2f74dda90c451247573ec4b",
            "81ed32bc6a1340a5a5fffca1a1a1bb99",
            "c2309b5af02947c6bf2b04d5b8da3e26",
            "b006f7d54339491f82ed2b9da8ba6b6a",
            "12ef6332cb5d4feaa9391b6a4539fab4",
            "c38469ff39fd4b0e965d8712de9ba9a0",
            "877f124bae07422a9163bc8a360764a2",
            "73f5a7b9b0c744269c85e77a5f9b8f9b",
            "08a634a5bead41f4837f81bb3e360323",
            "1ccbefa0d1264412b7e2fb4ff186ce4c",
            "56c94bf8fedb43dfa037c6bc4b4031f4",
            "ef14cc7b3f8644ebb1ac01e0072a1104",
            "5a912deca99244beaf43b6e0d9b6c9b3",
            "968170db3af2493586c68d49f903b9e1",
            "1616e5662ecf412e9596621135ae52d8",
            "9e3ac61cd00e4774ad75b2da9b5267c9",
            "281caeb3d4ac4d469c647856b371207f",
            "9d04c5d50e0c44d688f9e6f3b402958c",
            "9466d1219d164fbfa7df3452db7c4c1b",
            "635947d80695439c8298424e44a9f49f",
            "5c7b9e9aa6104f57abe7e7a932a15682",
            "d4bac0dd45ef4620bd280a9dd29d2de2",
            "80468bd23e524330b322521206bedacf",
            "90a99565152d4d339dc8b2e3412859f7",
            "42eb8cc17ece46f3bb99069821027a70",
            "8378589035094602b74f9dddc4e8c418",
            "673485734c7b498bbfb388fdfb17b10c",
            "39a25e472db6472ab59cbe82b6ecbfc0",
            "93f5cda78c1944b09a393d26d15ecebc",
            "b4e171c885814985a78d2a4ea4ec56b5",
            "d85ab1e91fe54d2e861b00df3a21bb1c",
            "b421e0feb5804abbb5745ce096a97c5b",
            "dae713d11aa04b18b7edd5919897462d",
            "daa86d8e0eea4dc09e1466b651e7708d",
            "e4f8314fdf6044168cb3c36a00c6ac1a",
            "659ab67633b543df88fb563cb781b13c",
            "135d9262dcbe4dd5b132d92960b6906c",
            "13e6b4a4dd8645c28cf534ec82fe1d61",
            "038f30999bd24df5a410a584c1dfbc61",
            "15cd380baae34401885f9ac205af4072",
            "ae2ec76128b54244ae5d3e414b09c832",
            "82e19ec79f154585919667e4e9e1f0f0",
            "8ab21cae75a34f99b475b94f04e21bb2",
            "8659aed861a64ec4a936ddd979d4af83",
            "33b2aba027c2491aa31ae7e8ac606631",
            "364eaff83a874981be06ce80689c7ac3",
            "787ec94105424b31a09b667a990d9e02",
            "c2f4f938f7fc4673a822e9c465775da0",
            "28a8b9f1478b4f5ba51817f1118a1b8d",
            "bc8e3548e40a428ea617dc09f75db4a4",
            "cfdf3af5d7804442801ec31b7d935229",
            "d3c4bc87f44f4a4d9139155d3039911a",
            "6258046777ee4786a6304c847a96029b",
            "66c120f6922444a09d05d76be385533f",
            "b1f769e3b3f44b86bf67c6b4bde1ff93",
            "18f3d0e427064926900edc510f5d04c6",
            "dd46d43b726849ff9f43d280e7a92017",
            "78cf86bf2cd1470c89d0ea997b60b154",
            "ffcba572f2b2443cb6bfe12122249863",
            "b3edc365d63845aa9882a2339c6e2171",
            "66c5df6ecfc84e49a83b3938de2b9ba2",
            "562bed357e4449919ce6bfd4e7f564be",
            "bd1bff0a3993415bb52a61330143c629",
            "a134119c0f554cc6aa91a393649ed3ce",
            "846a301a08224a7aacba7366f4ed0a5b",
            "a82784ee6aa94a11a551f38998f982e3",
            "aa3cc6ea9ec140b8b103f9367aad2957",
            "31508d8a28a54bdebf1202214690bf4d",
            "702d69e1ed2c4ea1aefdd0a2c6a1f313",
            "f725ae6a8db34b7695280c2ed03dcea8",
            "80a45c11561d4f0f94496d4518c4f381",
            "43d8bf1ea78b4f538a7f131f940e709c",
            "87105096f3804c80bf774961016a8b51",
            "236645ccec934853891a097fa670b5e7",
            "46d158b0eb674646b7210c79bad12726",
            "6b9c95e1eb8a4f52b205e2d2a9dc38c1",
            "4e1a7bd061c244d89bae21467aaab125",
            "e4eb924d42ab46efa57581f6301f15ff",
            "0d8a48e3a0e641afa053c59691662f05",
            "3985aa038e15410e95edff6d326a81e3",
            "b2a4c24f616b42d78515c9e06b81e26f",
            "67db1e9c34324ed5903d4bad84bbc401",
            "1a74d6a7877f4a98be316e8de17ebf72",
            "1b057fdf313f442cb228906e637e9eb0",
            "59c32fd0480f41c2a71f52dd63d0574c",
            "05b0b457e4794f1f9271d5016be67d61",
            "de085df85b7c41edb271a29c2e232602",
            "43102bc1c054405cbdf7d8f1708c1653",
            "bd55b2fc56494cecbc249b54ee0b1704",
            "84c9e8246ba048668aedef1ad21488d8",
            "e136dfe5a7294116901090aea4fdb0d5",
            "75beef05e02b4995b38a45ccab9d30a7",
            "de625e226356470782171eea619fb1dd",
            "447c93a9041149f09e1d935a0b78dc73",
            "a385880f92dc4c028b4c50d119b21c09",
            "90a08cf6ddc94034a9f3a39eb96447cc",
            "e5132ce5c41645a6bf5e3d4608c7cf6a",
            "58b15e42a1a741359602a5e222161a6b",
            "52811dd790604ee8ae847e747c882f40",
            "3f54868fbf2c4bd588bada4afa8562e2",
            "2264a1e1d37c4d3583ef75eaae4998ab",
            "e01647f33919484eb25a8a2cf0949ccf",
            "f92b968631104f05824a46325cae6b15",
            "111bafb2a54b4ae1b4e826d0e8f46415",
            "47c71978252f4bb8b7fb4cd675735286",
            "c048ed5d4c3b4a46ba55764e17c8ce9b",
            "9e2ed619aff447959f15328205b097e6",
            "6f40ab25fb9b4a8f89d89826dd8247e8",
            "78f3c852edac48f086e49bb459826a13",
            "14670a19880d43c6b2bedef9fc2e1a69",
            "815ac639bbd2426286833fa9701d2cb6",
            "f55e352cde2e4f30904c5ba2ce47d001",
            "a5b4cb9b0f5542f98084f7cb5cdaf4a6",
            "44366f0b467743108d67d5445022ebf3",
            "8730edc4aad349c491af8049c1dfa21d",
            "e4f527bd293942219d64233f083d9858",
            "42814195affb46ef81dc6429be098356",
            "3c0856272f18451b9ffcd64d52bf5ff1",
            "d298649058d84d11a236a523b095d6ab",
            "7a1a6ea6d1444e0cbe5ca2745b5997dc",
            "572b35f0f3ad4e4db0c3fab2017e48ae",
            "e57a4d14038c4887896b1ba121c30f3a",
            "e49596ce547244ea8eb7b95bd613ad89",
            "c0cbcacee9334a4f98d404b8c3940613",
            "ffd6d23014484e6080ae9e963ffcf9b3",
            "67bf3acbd2b1412c9b01489c5a2bb0bc",
            "8960ee7743a340e2bf7117407bb4ecba",
            "961690131dc644e38fbe6be9f67e49e4",
            "01d2c72edf1f4c879e6513e9de4affe1",
            "d74d5009b29e4312bee2443ba1ca9bbb",
            "ab20795a2e8d4d79b9cc1781e2fc0545",
            "a9cee558c33842ae8bd5f1daa7ed2862",
            "fb9ee82a48454b61a4347052584f599a",
            "59eeb18d53504072a5e2a43296a6b3db",
            "cb7588eb0d99454892101997cf4af60b",
            "172c6073f7fb43dc8a712bff642e70b4",
            "2aaefe3fa477479088a315183efd5cbd",
            "dbb3c369b628461fa529415a04133ad8",
            "58d8b695c419411496fc4f2475f9a70e",
            "d289fc2ce1284336ac9dc5109524fa0b",
            "c9d084412ebd416493ce0e6306bbf082",
            "a1e97b4234014c9f89688bf485c0d33e",
            "0e8411ab0dd94f8690dac18efe5b9cac",
            "00995383ab864b9f929e457c6cc444b7",
            "448af829e86a469bba5eadef6bc9a1df",
            "168e82c39ddd40f4b0fc41fc8ae5924c",
            "1912374154b24317ab301a39b9601487",
            "3a3492d8a8b545508fca29b1f083390e",
            "355ffd0f85bb45ce8b86621ffe318a1a",
            "9aa7c307935749b4871e776f97230c81",
            "8d0b86382dbc4e40a54ee95ff3d77e3d",
            "8f6fc30c37be49c1a289a8a69e47bc29",
            "c65c05d7c3a44f50a3b844a54e1d4a2d",
            "607139b040214885a993ce7b8bf9ffa4",
            "876542086e054a2e939454c96bda2070",
            "352cec9510f24653af05a812a61e40e0",
            "958b12904f20439c98820f0da188c956",
            "1d27c7f489a0445190eb04e3310f7052",
            "7ca56f33a0e24ef58025fad9f8bf4792",
            "655de9ef557a48089a0c238ae2990352",
            "576d391c0dde49e49e28a948af85b917",
            "0c0f7fe300f0446b853da44393be6548",
            "fd6a1b7381254bc786a4f8978d20d630",
            "dd81a78e74ad4a1baff5718dbf16333d",
            "ae59568ebc37484789098f151b2b7195",
            "8d158369e13245f7a4ae48435b5dc772",
            "7ba619882b3844f0b8ebf2c8161d801f",
            "1b70ca0026bd4fe2a5245d6ddbc6b1af",
            "51cfa7d87f5c4306b80befd69b597dbe",
            "5b6671417ef04707adacfe3edaaa34ff",
            "f592d328d76b487a8052e26fb29b89ba",
            "d58cf5bc6f44467a930bb735872112e7",
            "3b3c93001c104dd4a649fa2c8425b17a",
            "80e129f774424976b51641b1b631e485",
            "f0ea2bd40e984853ab3b4468fc872e10",
            "de63c20a479d4f94b3fc03c304f166a7",
            "15fd0270d05d43a98bf87a1b6d6391fb",
            "f87a248ddda540de8d79131a21ceada4",
            "346ed9b54ea64ee3931c61ca920e3afc",
            "9a9e420a0ce84dd19e16dd5f59a93dec",
            "633697d6ff3e447b8577aaffc73b13da",
            "ab6787ac2b534207a539b01ef55ad33b",
            "1dc6ab930b3148d5942b2b6f6fd2230c",
            "d92f1ac72ccd438fbb9341b86d758bb9",
            "cbb26b3ce2f54a99a95fb1e6332520c9",
            "ece68d11bb1c4fc3881bba2386c60de5",
            "361752a7fbfb484f9c5b4deab98e00a4",
            "8d4bc60ae9b94bd190c05a9819795024",
            "c07d9ef2193347369faa54e2a52c6347",
            "101e69a09bbb4bca8952703da8421249",
            "b3f74b835d6f47f0a4a93fd8d0f431d0",
            "3d4952c4ef424b9894c880830e07ec57",
            "d8fe2a8c74994e8bbab2f2e041f03dd0",
            "387d21d31c2b4cb7a4c0803f033c77bf",
            "179d285e0fdf4912a6583ce7b43daddf",
            "32fc131f66d644c082b388b0b96909b5",
            "764ab1c40a144644a03d7cd9471244ef",
            "d07c65f8cced45f9b2955162e7fabd8c",
            "889b9fd69fd242b4892f3e413b288a7a",
            "303391c8da4546619e8426dfa22c6490",
            "3080c88164774443b7d754f93871020e",
            "b82980fab92f44d38c1ddcb0878ee755",
            "5dcc5576b2db4eab9bc4ce112b2eb7c1",
            "ca51e72816d24020a4a66421f5c7a9f1",
            "1b6845b2e81748e39d3bd6092a2d1d29",
            "dd4c8e174a64494cbf55897d5f27a14b",
            "61920770f6a649b7968498ad5c322f0f",
            "40dc36c09ac045b09f52f1d399548155",
            "26c1c08dd6d141f8aab09a9974bd4e1e",
            "5cd98ff3aac1406cae4e422fc5e71124",
            "654bdd2f14454a71b09a4bf6feab805f",
            "7827a0fb60ed4afc8749f85a1305faa5",
            "1db378e63744469eb628311f09768cbe",
            "a2021e4805e541858819ba696ac2ba4d",
            "ab9fd56c7d1f432b83ae441f616acdc7",
            "8e056b8b3cab4d4bb2689d150812ada4",
            "105f058c7ba7402fbc662c99a1afcf2b",
            "d29cba99b19c42f1ac7bc167c16a7b45",
            "dec23893cd4b4c0d90e0fafda76d0794",
            "47dde673a00d4a6c83ecdb7050d6ddab",
            "f43038b7ee784aabbea025cda03153c0"
          ]
        },
        "id": "si_Ptv0uNkIe",
        "outputId": "29ce9342-215e-4900-d32f-19e379a84086"
      },
      "execution_count": 3,
      "outputs": [
        {
          "output_type": "display_data",
          "data": {
            "text/plain": [
              "README.md:   0%|          | 0.00/131k [00:00<?, ?B/s]"
            ],
            "application/vnd.jupyter.widget-view+json": {
              "version_major": 2,
              "version_minor": 0,
              "model_id": "69652f02fb0d45a19de1d7f05b6da8cc"
            }
          },
          "metadata": {}
        },
        {
          "output_type": "display_data",
          "data": {
            "text/plain": [
              "train-00000-of-00001.parquet:   0%|          | 0.00/1.18M [00:00<?, ?B/s]"
            ],
            "application/vnd.jupyter.widget-view+json": {
              "version_major": 2,
              "version_minor": 0,
              "model_id": "3235e7c40ff143748f97fb2c8b98fded"
            }
          },
          "metadata": {}
        },
        {
          "output_type": "display_data",
          "data": {
            "text/plain": [
              "validation-00000-of-00001.parquet:   0%|          | 0.00/590k [00:00<?, ?B/s]"
            ],
            "application/vnd.jupyter.widget-view+json": {
              "version_major": 2,
              "version_minor": 0,
              "model_id": "3b9841e969bc4d1bae9e851d1edf14b6"
            }
          },
          "metadata": {}
        },
        {
          "output_type": "display_data",
          "data": {
            "text/plain": [
              "test-00000-of-00001.parquet:   0%|          | 0.00/588k [00:00<?, ?B/s]"
            ],
            "application/vnd.jupyter.widget-view+json": {
              "version_major": 2,
              "version_minor": 0,
              "model_id": "6ab533f9f2e7491fb25170fa619f451a"
            }
          },
          "metadata": {}
        },
        {
          "output_type": "display_data",
          "data": {
            "text/plain": [
              "Generating train split:   0%|          | 0/20000 [00:00<?, ? examples/s]"
            ],
            "application/vnd.jupyter.widget-view+json": {
              "version_major": 2,
              "version_minor": 0,
              "model_id": "4f0c24e4a341400fac2748bd3c89b16d"
            }
          },
          "metadata": {}
        },
        {
          "output_type": "display_data",
          "data": {
            "text/plain": [
              "Generating validation split:   0%|          | 0/10000 [00:00<?, ? examples/s]"
            ],
            "application/vnd.jupyter.widget-view+json": {
              "version_major": 2,
              "version_minor": 0,
              "model_id": "81ed32bc6a1340a5a5fffca1a1a1bb99"
            }
          },
          "metadata": {}
        },
        {
          "output_type": "display_data",
          "data": {
            "text/plain": [
              "Generating test split:   0%|          | 0/10000 [00:00<?, ? examples/s]"
            ],
            "application/vnd.jupyter.widget-view+json": {
              "version_major": 2,
              "version_minor": 0,
              "model_id": "5a912deca99244beaf43b6e0d9b6c9b3"
            }
          },
          "metadata": {}
        },
        {
          "output_type": "display_data",
          "data": {
            "text/plain": [
              "train-00000-of-00001.parquet:   0%|          | 0.00/837k [00:00<?, ?B/s]"
            ],
            "application/vnd.jupyter.widget-view+json": {
              "version_major": 2,
              "version_minor": 0,
              "model_id": "90a99565152d4d339dc8b2e3412859f7"
            }
          },
          "metadata": {}
        },
        {
          "output_type": "display_data",
          "data": {
            "text/plain": [
              "validation-00000-of-00001.parquet:   0%|          | 0.00/419k [00:00<?, ?B/s]"
            ],
            "application/vnd.jupyter.widget-view+json": {
              "version_major": 2,
              "version_minor": 0,
              "model_id": "e4f8314fdf6044168cb3c36a00c6ac1a"
            }
          },
          "metadata": {}
        },
        {
          "output_type": "display_data",
          "data": {
            "text/plain": [
              "test-00000-of-00001.parquet:   0%|          | 0.00/423k [00:00<?, ?B/s]"
            ],
            "application/vnd.jupyter.widget-view+json": {
              "version_major": 2,
              "version_minor": 0,
              "model_id": "364eaff83a874981be06ce80689c7ac3"
            }
          },
          "metadata": {}
        },
        {
          "output_type": "display_data",
          "data": {
            "text/plain": [
              "Generating train split:   0%|          | 0/20000 [00:00<?, ? examples/s]"
            ],
            "application/vnd.jupyter.widget-view+json": {
              "version_major": 2,
              "version_minor": 0,
              "model_id": "dd46d43b726849ff9f43d280e7a92017"
            }
          },
          "metadata": {}
        },
        {
          "output_type": "display_data",
          "data": {
            "text/plain": [
              "Generating validation split:   0%|          | 0/10000 [00:00<?, ? examples/s]"
            ],
            "application/vnd.jupyter.widget-view+json": {
              "version_major": 2,
              "version_minor": 0,
              "model_id": "31508d8a28a54bdebf1202214690bf4d"
            }
          },
          "metadata": {}
        },
        {
          "output_type": "display_data",
          "data": {
            "text/plain": [
              "Generating test split:   0%|          | 0/10000 [00:00<?, ? examples/s]"
            ],
            "application/vnd.jupyter.widget-view+json": {
              "version_major": 2,
              "version_minor": 0,
              "model_id": "0d8a48e3a0e641afa053c59691662f05"
            }
          },
          "metadata": {}
        },
        {
          "output_type": "display_data",
          "data": {
            "text/plain": [
              "train-00000-of-00001.parquet:   0%|          | 0.00/942k [00:00<?, ?B/s]"
            ],
            "application/vnd.jupyter.widget-view+json": {
              "version_major": 2,
              "version_minor": 0,
              "model_id": "84c9e8246ba048668aedef1ad21488d8"
            }
          },
          "metadata": {}
        },
        {
          "output_type": "display_data",
          "data": {
            "text/plain": [
              "validation-00000-of-00001.parquet:   0%|          | 0.00/472k [00:00<?, ?B/s]"
            ],
            "application/vnd.jupyter.widget-view+json": {
              "version_major": 2,
              "version_minor": 0,
              "model_id": "2264a1e1d37c4d3583ef75eaae4998ab"
            }
          },
          "metadata": {}
        },
        {
          "output_type": "display_data",
          "data": {
            "text/plain": [
              "test-00000-of-00001.parquet:   0%|          | 0.00/472k [00:00<?, ?B/s]"
            ],
            "application/vnd.jupyter.widget-view+json": {
              "version_major": 2,
              "version_minor": 0,
              "model_id": "f55e352cde2e4f30904c5ba2ce47d001"
            }
          },
          "metadata": {}
        },
        {
          "output_type": "display_data",
          "data": {
            "text/plain": [
              "Generating train split:   0%|          | 0/20000 [00:00<?, ? examples/s]"
            ],
            "application/vnd.jupyter.widget-view+json": {
              "version_major": 2,
              "version_minor": 0,
              "model_id": "e49596ce547244ea8eb7b95bd613ad89"
            }
          },
          "metadata": {}
        },
        {
          "output_type": "display_data",
          "data": {
            "text/plain": [
              "Generating validation split:   0%|          | 0/10000 [00:00<?, ? examples/s]"
            ],
            "application/vnd.jupyter.widget-view+json": {
              "version_major": 2,
              "version_minor": 0,
              "model_id": "59eeb18d53504072a5e2a43296a6b3db"
            }
          },
          "metadata": {}
        },
        {
          "output_type": "display_data",
          "data": {
            "text/plain": [
              "Generating test split:   0%|          | 0/10000 [00:00<?, ? examples/s]"
            ],
            "application/vnd.jupyter.widget-view+json": {
              "version_major": 2,
              "version_minor": 0,
              "model_id": "448af829e86a469bba5eadef6bc9a1df"
            }
          },
          "metadata": {}
        },
        {
          "output_type": "display_data",
          "data": {
            "text/plain": [
              "train-00000-of-00001.parquet:   0%|          | 0.00/932k [00:00<?, ?B/s]"
            ],
            "application/vnd.jupyter.widget-view+json": {
              "version_major": 2,
              "version_minor": 0,
              "model_id": "352cec9510f24653af05a812a61e40e0"
            }
          },
          "metadata": {}
        },
        {
          "output_type": "display_data",
          "data": {
            "text/plain": [
              "validation-00000-of-00001.parquet:   0%|          | 0.00/459k [00:00<?, ?B/s]"
            ],
            "application/vnd.jupyter.widget-view+json": {
              "version_major": 2,
              "version_minor": 0,
              "model_id": "7ba619882b3844f0b8ebf2c8161d801f"
            }
          },
          "metadata": {}
        },
        {
          "output_type": "display_data",
          "data": {
            "text/plain": [
              "test-00000-of-00001.parquet:   0%|          | 0.00/464k [00:00<?, ?B/s]"
            ],
            "application/vnd.jupyter.widget-view+json": {
              "version_major": 2,
              "version_minor": 0,
              "model_id": "f87a248ddda540de8d79131a21ceada4"
            }
          },
          "metadata": {}
        },
        {
          "output_type": "display_data",
          "data": {
            "text/plain": [
              "Generating train split:   0%|          | 0/20000 [00:00<?, ? examples/s]"
            ],
            "application/vnd.jupyter.widget-view+json": {
              "version_major": 2,
              "version_minor": 0,
              "model_id": "c07d9ef2193347369faa54e2a52c6347"
            }
          },
          "metadata": {}
        },
        {
          "output_type": "display_data",
          "data": {
            "text/plain": [
              "Generating validation split:   0%|          | 0/10000 [00:00<?, ? examples/s]"
            ],
            "application/vnd.jupyter.widget-view+json": {
              "version_major": 2,
              "version_minor": 0,
              "model_id": "303391c8da4546619e8426dfa22c6490"
            }
          },
          "metadata": {}
        },
        {
          "output_type": "display_data",
          "data": {
            "text/plain": [
              "Generating test split:   0%|          | 0/10000 [00:00<?, ? examples/s]"
            ],
            "application/vnd.jupyter.widget-view+json": {
              "version_major": 2,
              "version_minor": 0,
              "model_id": "654bdd2f14454a71b09a4bf6feab805f"
            }
          },
          "metadata": {}
        }
      ]
    },
    {
      "cell_type": "code",
      "source": [
        "import pandas as pd\n",
        "\n",
        "# See number of samples per language\n",
        "\n",
        "pd.DataFrame({\n",
        "    lang: [pan_x_dataset[lang][\"train\"].num_rows]\n",
        "    for lang in langs_used\n",
        "}, index=[\"Number of samples\"])"
      ],
      "metadata": {
        "colab": {
          "base_uri": "https://localhost:8080/",
          "height": 80
        },
        "id": "PY1ipdW8PHza",
        "outputId": "c7f05b05-8d0b-4d1e-9bf8-53888ec728c0"
      },
      "execution_count": 4,
      "outputs": [
        {
          "output_type": "execute_result",
          "data": {
            "text/plain": [
              "                      de    fr    en    it\n",
              "Number of samples  12000  4000  2000  2000"
            ],
            "text/html": [
              "\n",
              "  <div id=\"df-07953e7e-f992-48a9-bab5-cdb3359f2e1a\" class=\"colab-df-container\">\n",
              "    <div>\n",
              "<style scoped>\n",
              "    .dataframe tbody tr th:only-of-type {\n",
              "        vertical-align: middle;\n",
              "    }\n",
              "\n",
              "    .dataframe tbody tr th {\n",
              "        vertical-align: top;\n",
              "    }\n",
              "\n",
              "    .dataframe thead th {\n",
              "        text-align: right;\n",
              "    }\n",
              "</style>\n",
              "<table border=\"1\" class=\"dataframe\">\n",
              "  <thead>\n",
              "    <tr style=\"text-align: right;\">\n",
              "      <th></th>\n",
              "      <th>de</th>\n",
              "      <th>fr</th>\n",
              "      <th>en</th>\n",
              "      <th>it</th>\n",
              "    </tr>\n",
              "  </thead>\n",
              "  <tbody>\n",
              "    <tr>\n",
              "      <th>Number of samples</th>\n",
              "      <td>12000</td>\n",
              "      <td>4000</td>\n",
              "      <td>2000</td>\n",
              "      <td>2000</td>\n",
              "    </tr>\n",
              "  </tbody>\n",
              "</table>\n",
              "</div>\n",
              "    <div class=\"colab-df-buttons\">\n",
              "\n",
              "  <div class=\"colab-df-container\">\n",
              "    <button class=\"colab-df-convert\" onclick=\"convertToInteractive('df-07953e7e-f992-48a9-bab5-cdb3359f2e1a')\"\n",
              "            title=\"Convert this dataframe to an interactive table.\"\n",
              "            style=\"display:none;\">\n",
              "\n",
              "  <svg xmlns=\"http://www.w3.org/2000/svg\" height=\"24px\" viewBox=\"0 -960 960 960\">\n",
              "    <path d=\"M120-120v-720h720v720H120Zm60-500h600v-160H180v160Zm220 220h160v-160H400v160Zm0 220h160v-160H400v160ZM180-400h160v-160H180v160Zm440 0h160v-160H620v160ZM180-180h160v-160H180v160Zm440 0h160v-160H620v160Z\"/>\n",
              "  </svg>\n",
              "    </button>\n",
              "\n",
              "  <style>\n",
              "    .colab-df-container {\n",
              "      display:flex;\n",
              "      gap: 12px;\n",
              "    }\n",
              "\n",
              "    .colab-df-convert {\n",
              "      background-color: #E8F0FE;\n",
              "      border: none;\n",
              "      border-radius: 50%;\n",
              "      cursor: pointer;\n",
              "      display: none;\n",
              "      fill: #1967D2;\n",
              "      height: 32px;\n",
              "      padding: 0 0 0 0;\n",
              "      width: 32px;\n",
              "    }\n",
              "\n",
              "    .colab-df-convert:hover {\n",
              "      background-color: #E2EBFA;\n",
              "      box-shadow: 0px 1px 2px rgba(60, 64, 67, 0.3), 0px 1px 3px 1px rgba(60, 64, 67, 0.15);\n",
              "      fill: #174EA6;\n",
              "    }\n",
              "\n",
              "    .colab-df-buttons div {\n",
              "      margin-bottom: 4px;\n",
              "    }\n",
              "\n",
              "    [theme=dark] .colab-df-convert {\n",
              "      background-color: #3B4455;\n",
              "      fill: #D2E3FC;\n",
              "    }\n",
              "\n",
              "    [theme=dark] .colab-df-convert:hover {\n",
              "      background-color: #434B5C;\n",
              "      box-shadow: 0px 1px 3px 1px rgba(0, 0, 0, 0.15);\n",
              "      filter: drop-shadow(0px 1px 2px rgba(0, 0, 0, 0.3));\n",
              "      fill: #FFFFFF;\n",
              "    }\n",
              "  </style>\n",
              "\n",
              "    <script>\n",
              "      const buttonEl =\n",
              "        document.querySelector('#df-07953e7e-f992-48a9-bab5-cdb3359f2e1a button.colab-df-convert');\n",
              "      buttonEl.style.display =\n",
              "        google.colab.kernel.accessAllowed ? 'block' : 'none';\n",
              "\n",
              "      async function convertToInteractive(key) {\n",
              "        const element = document.querySelector('#df-07953e7e-f992-48a9-bab5-cdb3359f2e1a');\n",
              "        const dataTable =\n",
              "          await google.colab.kernel.invokeFunction('convertToInteractive',\n",
              "                                                    [key], {});\n",
              "        if (!dataTable) return;\n",
              "\n",
              "        const docLinkHtml = 'Like what you see? Visit the ' +\n",
              "          '<a target=\"_blank\" href=https://colab.research.google.com/notebooks/data_table.ipynb>data table notebook</a>'\n",
              "          + ' to learn more about interactive tables.';\n",
              "        element.innerHTML = '';\n",
              "        dataTable['output_type'] = 'display_data';\n",
              "        await google.colab.output.renderOutput(dataTable, element);\n",
              "        const docLink = document.createElement('div');\n",
              "        docLink.innerHTML = docLinkHtml;\n",
              "        element.appendChild(docLink);\n",
              "      }\n",
              "    </script>\n",
              "  </div>\n",
              "\n",
              "\n",
              "    </div>\n",
              "  </div>\n"
            ],
            "application/vnd.google.colaboratory.intrinsic+json": {
              "type": "dataframe",
              "summary": "{\n  \"name\": \"}, index=[\\\"Number of samples\\\"])\",\n  \"rows\": 1,\n  \"fields\": [\n    {\n      \"column\": \"de\",\n      \"properties\": {\n        \"dtype\": \"number\",\n        \"std\": null,\n        \"min\": 12000,\n        \"max\": 12000,\n        \"num_unique_values\": 1,\n        \"samples\": [\n          12000\n        ],\n        \"semantic_type\": \"\",\n        \"description\": \"\"\n      }\n    },\n    {\n      \"column\": \"fr\",\n      \"properties\": {\n        \"dtype\": \"number\",\n        \"std\": null,\n        \"min\": 4000,\n        \"max\": 4000,\n        \"num_unique_values\": 1,\n        \"samples\": [\n          4000\n        ],\n        \"semantic_type\": \"\",\n        \"description\": \"\"\n      }\n    },\n    {\n      \"column\": \"en\",\n      \"properties\": {\n        \"dtype\": \"number\",\n        \"std\": null,\n        \"min\": 2000,\n        \"max\": 2000,\n        \"num_unique_values\": 1,\n        \"samples\": [\n          2000\n        ],\n        \"semantic_type\": \"\",\n        \"description\": \"\"\n      }\n    },\n    {\n      \"column\": \"it\",\n      \"properties\": {\n        \"dtype\": \"number\",\n        \"std\": null,\n        \"min\": 2000,\n        \"max\": 2000,\n        \"num_unique_values\": 1,\n        \"samples\": [\n          2000\n        ],\n        \"semantic_type\": \"\",\n        \"description\": \"\"\n      }\n    }\n  ]\n}"
            }
          },
          "metadata": {},
          "execution_count": 4
        }
      ]
    },
    {
      "cell_type": "markdown",
      "source": [
        "## Create tags"
      ],
      "metadata": {
        "id": "WbUsXw00YVdO"
      }
    },
    {
      "cell_type": "code",
      "source": [
        "tags = pan_x_dataset[\"de\"][\"train\"].features[\"ner_tags\"].feature\n",
        "print(tags)"
      ],
      "metadata": {
        "colab": {
          "base_uri": "https://localhost:8080/"
        },
        "id": "hJI8v3axYjm-",
        "outputId": "4814fd2b-4a92-43ca-ae46-c10a43d48bdc"
      },
      "execution_count": 5,
      "outputs": [
        {
          "output_type": "stream",
          "name": "stdout",
          "text": [
            "ClassLabel(names=['O', 'B-PER', 'I-PER', 'B-ORG', 'I-ORG', 'B-LOC', 'I-LOC'], id=None)\n"
          ]
        }
      ]
    },
    {
      "cell_type": "code",
      "source": [
        "def create_tag_names(batch):\n",
        "    return {\"ner_tags_str\": [tags.int2str(idx) for idx in batch[\"ner_tags\"]]}"
      ],
      "metadata": {
        "id": "RpDP5x9CYXme"
      },
      "execution_count": 6,
      "outputs": []
    },
    {
      "cell_type": "code",
      "source": [
        "pan_x_de = pan_x_dataset[\"de\"].map(create_tag_names)\n",
        "pan_x_fr = pan_x_dataset[\"fr\"].map(create_tag_names)\n",
        "pan_x_en = pan_x_dataset[\"en\"].map(create_tag_names)\n",
        "pan_x_it = pan_x_dataset[\"it\"].map(create_tag_names)"
      ],
      "metadata": {
        "colab": {
          "base_uri": "https://localhost:8080/",
          "height": 401,
          "referenced_widgets": [
            "fc79663beed94862a4293999ffef521b",
            "6033237b6e7f463f823227d850db8785",
            "c0c72c38c201480a881d4e0938d4ee7d",
            "c07aef0b137946ed8b182b2c46ca40c0",
            "9429e0f092984aaa958cf74411b889fd",
            "8335d69646e446449fc4c33997ec87bc",
            "9725004f65b8497e802d619484b17755",
            "86f3c23becd04f57be6f82263803b91e",
            "9a00eb3fa63348b6854e2797f7a53bc5",
            "2e5e4f7ef3d84e16aacddeae8d12aabe",
            "342968fcc3e04b32acaa5adaa58bfb33",
            "968c91197d6e4a7db52903d590e28bbe",
            "42ea1a1cb6e24e04af879d4a60c546e1",
            "0bcc514d5646461b95134ac24b6b9a37",
            "62e58ddb84574e29b44112db5de4f259",
            "b5d14c7664bf46df87babf06a221daca",
            "c70658501d864c348b6f535dbb5f78df",
            "d97aa1e9f75a45b2a7ed9b6b9dfbc458",
            "40fb826973df47a581e087c5d559f8c7",
            "1bd106e2a98e42e19e6e66bfc9a09f72",
            "714e1bb9f783463d9287bb7b519d6f85",
            "8d5fce6503874292828155697a931529",
            "02ae55658bce41509d9592121dddbc79",
            "8051fc3cacf14936892beced46174a52",
            "11f3229d42794c8b853cb97e52a891e1",
            "ca297358b4594954b1ce34c4cea92550",
            "cc59de07374f42db94b724d89754924a",
            "6995de3f07c5493bbe3639f7c79ab0e3",
            "819c59eb6d8947ab8fa3f2fbe9a130cb",
            "e4fd2d8533e342128b7fe890be868106",
            "3a34dadcb6194c139c82c68d29193ae8",
            "1ba7b7d3bd4343348ffe3a567ed656c8",
            "a88c271d45684717b1f102f11de729f9",
            "68b25c87eab7439591cf9a53754afff8",
            "c4f09327ff284593bab450f437ca9921",
            "0e8b72c1002344b2960629bb2a6011a3",
            "2fe3bc9fcc53401f90146784db85a4f3",
            "7e66b9311751495a845354e4098490c8",
            "a42b40e7e40b477db5d2a1b53f64db57",
            "882664f60781432c89b524ee8a0c488c",
            "e9d13eb42f564e448026e510a30b33db",
            "726eb2da30124c7b8f740345efd851fe",
            "713a7e7ddcda4397961daa0c50f2be48",
            "d9a92ff040ab474aa81eafbd0ecbc488",
            "a4cbe51339b64681b6308055c7a4d258",
            "3891dd2294b747f286adab164d91b47b",
            "73ff2fb478eb481d9beae4ba1ea0a25f",
            "57855ba45cd94ecb8df3b51c2403d791",
            "690cb236972141599dcee36a142e901c",
            "befa218e07584aa68b3be24056cba77a",
            "925a4dea645e4236b2ab46c072502b0b",
            "999826dedb724fe9853a4ae866b67018",
            "0d347af9d12a48df825471963709a616",
            "c1eda1d6058f4e97b0670eaae82e0708",
            "73df1beed5474be2a793c3a47d3770ea",
            "7b51b395103646639446dbdd03dc9c81",
            "e9278f4144734534a3f98c5a66d8f710",
            "328d6b5d7d134633a22ff499efa0259f",
            "febb8a83e5534a99bf529be156f3b2e2",
            "0ae84d11659e4cc1a8399b2ccc44fba8",
            "351c85bb2ad348079d1a9d57a4054376",
            "ad2cf0773f194320b23f8dceb20126b9",
            "8de9fc987094427e83bf4bdd916322b2",
            "904691704cd6475499db80576dfc5e55",
            "a091095fa9c242fab4f6821d764429eb",
            "d4bc24b0937244d39395ad4ae5ede637",
            "e27bfa18c1ec48feb7a8e6edbd515e95",
            "a5f1d7090dd040ddbcf10a0d3317a607",
            "0e3d95344a954567b6118adaccb11203",
            "1c3eb46411f342a098d129098ae90c13",
            "b9c8124b6a0747dd85c9e920d0c66518",
            "55dd8531a76e47d783c74b80fca13cb7",
            "822d8a2dcb0a4b328c2bc6ab06306b98",
            "e5c7d722588d4345bfbab5a16e1afd3f",
            "45f2457c017f4a989f50ccee004bbb9f",
            "138e7820d82d4bc6a986535b6ba798eb",
            "0232c11a1cdc4ee1ab619721d947105b",
            "84623b4e1c40426ea45315d24faefc43",
            "e36f4e013adf4cef9ae87e97f097fbc5",
            "2ced48af05544530841198c6fced4c6d",
            "c837032481444f229bab8284e02e43d2",
            "11297eb37e5249acb0a3bc744d1f300b",
            "456b00ed74d44a8bb631cc355eef0412",
            "4c8df0921ea94aa79143d4bd36747b89",
            "c8502ef3d32f4f1d86d3835861d09fe3",
            "3f1f2b0776a34d3aad215fa2eae9fe3b",
            "c7b572a4d640438a86e3eee49dd1edb9",
            "a11716d78f414c62ab1613002d3ebbc7",
            "160635d317954e49a3542e116a801ac9",
            "1d0d3fd8d7b04aa9b430d88174420d0b",
            "e5aac41632e1446886f8bd4fa9bfa6ef",
            "eb38d085698747aa8acfbb8392a62a99",
            "773710ea73e942b199d42b9534338d7a",
            "e45ba17c518440e5a50687f68228251b",
            "4883454be1f447508ade3267f2465f54",
            "8a28a0e53e2e45b39271a8944dfd9794",
            "462c78d4a7824ea1b21af92aa94405a3",
            "ed2d2717c9a04dc9b3808430f3dcfedb",
            "b8520fdb56c6456bbc86f9a8910efb83",
            "1f2b5ac35915408f8be6c5d2bef31238",
            "d53256da120748ae9b3bc70c31ea0f8f",
            "7df52c9113424e649bb8bd389b88e83e",
            "67c7133633b349fe973ed12b43068701",
            "987bc639f3bd45da9a781391f4cfd401",
            "d70b9152645d46859fd3b14c3a6bf2cf",
            "72815786023b45f09f43f9483561833a",
            "07fc998d8eb14953b148f7dd739e62b1",
            "27d8156df8b64fe1ac3af707e342d916",
            "a4610a46053144459f940a9fec06213a",
            "676249c4a75f45abb108e76a1e944416",
            "48eaf8c3e6e344f192aa34347abbd9d6",
            "aa2a1900b1994a5097b45b8fe37adcae",
            "f25e595049e74b2faebb7d1944bc4d14",
            "c881b551380b4e5294edb5fc73f371c1",
            "c5b7a822ce874939b114acc5554ac18e",
            "c997121e935b43499b1c2c430561ab62",
            "49edb7670887403289029433dacef19f",
            "79adf993ed2142ddab821e786a0fb032",
            "4408ea74e45d470dbf3b90c68e8e10c3",
            "53149d773fcf40cc8d40cbb8e9f3d967",
            "b5be3a4aafb8412cac26ccbb2b93f7fc",
            "a827ca5451cc48ae986ad86c9c62b3b9",
            "335502e4249f460ea45bb5e1924b76ad",
            "4eb185bfc1b94d1194ef6de38593044d",
            "667244d2ef184bba99c5951208c33cc2",
            "e8bd77055a7d4b63932ab127bfa0f1e2",
            "79c5a7ee1f8a488e8cad33f6c38f55b7",
            "dd7b0ee4c984407c9980c9d56560bdb4",
            "b20eaf40216c420bbd934ae76bcf7174",
            "730bdd1034fc474098bb1eecc56d8b1b",
            "d6c2c89354be4b458f872048d33a3957",
            "1c20813a6ea64766a487e4049c72f918"
          ]
        },
        "id": "U2DGMAnyYeII",
        "outputId": "76abfb49-c3a4-41a6-d83d-5791961d54ae"
      },
      "execution_count": 7,
      "outputs": [
        {
          "output_type": "display_data",
          "data": {
            "text/plain": [
              "Map:   0%|          | 0/12000 [00:00<?, ? examples/s]"
            ],
            "application/vnd.jupyter.widget-view+json": {
              "version_major": 2,
              "version_minor": 0,
              "model_id": "fc79663beed94862a4293999ffef521b"
            }
          },
          "metadata": {}
        },
        {
          "output_type": "display_data",
          "data": {
            "text/plain": [
              "Map:   0%|          | 0/6000 [00:00<?, ? examples/s]"
            ],
            "application/vnd.jupyter.widget-view+json": {
              "version_major": 2,
              "version_minor": 0,
              "model_id": "968c91197d6e4a7db52903d590e28bbe"
            }
          },
          "metadata": {}
        },
        {
          "output_type": "display_data",
          "data": {
            "text/plain": [
              "Map:   0%|          | 0/6000 [00:00<?, ? examples/s]"
            ],
            "application/vnd.jupyter.widget-view+json": {
              "version_major": 2,
              "version_minor": 0,
              "model_id": "02ae55658bce41509d9592121dddbc79"
            }
          },
          "metadata": {}
        },
        {
          "output_type": "display_data",
          "data": {
            "text/plain": [
              "Map:   0%|          | 0/4000 [00:00<?, ? examples/s]"
            ],
            "application/vnd.jupyter.widget-view+json": {
              "version_major": 2,
              "version_minor": 0,
              "model_id": "68b25c87eab7439591cf9a53754afff8"
            }
          },
          "metadata": {}
        },
        {
          "output_type": "display_data",
          "data": {
            "text/plain": [
              "Map:   0%|          | 0/2000 [00:00<?, ? examples/s]"
            ],
            "application/vnd.jupyter.widget-view+json": {
              "version_major": 2,
              "version_minor": 0,
              "model_id": "a4cbe51339b64681b6308055c7a4d258"
            }
          },
          "metadata": {}
        },
        {
          "output_type": "display_data",
          "data": {
            "text/plain": [
              "Map:   0%|          | 0/2000 [00:00<?, ? examples/s]"
            ],
            "application/vnd.jupyter.widget-view+json": {
              "version_major": 2,
              "version_minor": 0,
              "model_id": "7b51b395103646639446dbdd03dc9c81"
            }
          },
          "metadata": {}
        },
        {
          "output_type": "display_data",
          "data": {
            "text/plain": [
              "Map:   0%|          | 0/2000 [00:00<?, ? examples/s]"
            ],
            "application/vnd.jupyter.widget-view+json": {
              "version_major": 2,
              "version_minor": 0,
              "model_id": "e27bfa18c1ec48feb7a8e6edbd515e95"
            }
          },
          "metadata": {}
        },
        {
          "output_type": "display_data",
          "data": {
            "text/plain": [
              "Map:   0%|          | 0/1000 [00:00<?, ? examples/s]"
            ],
            "application/vnd.jupyter.widget-view+json": {
              "version_major": 2,
              "version_minor": 0,
              "model_id": "84623b4e1c40426ea45315d24faefc43"
            }
          },
          "metadata": {}
        },
        {
          "output_type": "display_data",
          "data": {
            "text/plain": [
              "Map:   0%|          | 0/1000 [00:00<?, ? examples/s]"
            ],
            "application/vnd.jupyter.widget-view+json": {
              "version_major": 2,
              "version_minor": 0,
              "model_id": "160635d317954e49a3542e116a801ac9"
            }
          },
          "metadata": {}
        },
        {
          "output_type": "display_data",
          "data": {
            "text/plain": [
              "Map:   0%|          | 0/2000 [00:00<?, ? examples/s]"
            ],
            "application/vnd.jupyter.widget-view+json": {
              "version_major": 2,
              "version_minor": 0,
              "model_id": "1f2b5ac35915408f8be6c5d2bef31238"
            }
          },
          "metadata": {}
        },
        {
          "output_type": "display_data",
          "data": {
            "text/plain": [
              "Map:   0%|          | 0/1000 [00:00<?, ? examples/s]"
            ],
            "application/vnd.jupyter.widget-view+json": {
              "version_major": 2,
              "version_minor": 0,
              "model_id": "48eaf8c3e6e344f192aa34347abbd9d6"
            }
          },
          "metadata": {}
        },
        {
          "output_type": "display_data",
          "data": {
            "text/plain": [
              "Map:   0%|          | 0/1000 [00:00<?, ? examples/s]"
            ],
            "application/vnd.jupyter.widget-view+json": {
              "version_major": 2,
              "version_minor": 0,
              "model_id": "a827ca5451cc48ae986ad86c9c62b3b9"
            }
          },
          "metadata": {}
        }
      ]
    },
    {
      "cell_type": "markdown",
      "source": [
        "# Load Custom XLM-R Model"
      ],
      "metadata": {
        "id": "9iZKeMv425Vb"
      }
    },
    {
      "cell_type": "code",
      "source": [
        "from transformers import AutoConfig\n",
        "\n",
        "index_to_tag = {idx: tag for idx, tag in enumerate(tags.names)}\n",
        "tag_to_index = {tag: idx for idx, tag in enumerate(tags.names)}\n",
        "\n",
        "xlm_r_config = AutoConfig.from_pretrained(xlm_r_model, num_labels=tags.num_classes,\n",
        "                                                        id2label=index_to_tag,\n",
        "                                                        label2id=tag_to_index)"
      ],
      "metadata": {
        "id": "8mJAL_Ci27yG"
      },
      "execution_count": 8,
      "outputs": []
    },
    {
      "cell_type": "markdown",
      "source": [
        "# Tokenize Dataset"
      ],
      "metadata": {
        "id": "teZmoP7mRq22"
      }
    },
    {
      "cell_type": "code",
      "source": [
        "def tokenize_function(examples):\n",
        "\n",
        "    tokenized_input = tokenizer(examples[\"tokens\"], truncation=True, is_split_into_words=True)\n",
        "\n",
        "    # Also need to align label IDs to tokens\n",
        "    labels = []\n",
        "\n",
        "    for index, label in enumerate(examples[\"ner_tags\"]):\n",
        "        word_ids = tokenized_input.word_ids(batch_index=index)\n",
        "        previous_word_idx = None\n",
        "        label_ids = []\n",
        "\n",
        "        for word_idx in word_ids:\n",
        "            if word_idx is None:\n",
        "                label_ids.append(-100) # Ignore tokens associated w/ consecutive subwords (e.g. ignore 2nd part of Jeff ##rey)\n",
        "            else:\n",
        "                label_ids.append(label[word_idx])\n",
        "\n",
        "            previous_word_idx = word_idx\n",
        "\n",
        "        labels.append(label_ids)\n",
        "\n",
        "    tokenized_input[\"labels\"] = labels\n",
        "\n",
        "    return tokenized_input"
      ],
      "metadata": {
        "id": "7CUVpJlvRspj"
      },
      "execution_count": 9,
      "outputs": []
    },
    {
      "cell_type": "code",
      "source": [
        "def encode_pan_x_dataset(single_lang_subbset):\n",
        "\n",
        "  return single_lang_subbset.map(tokenize_function, batched=True, remove_columns=[\"langs\", \"ner_tags\", \"tokens\"])"
      ],
      "metadata": {
        "id": "fPtdmI9YTTap"
      },
      "execution_count": 10,
      "outputs": []
    },
    {
      "cell_type": "code",
      "source": [
        "pan_x_de_encoded = encode_pan_x_dataset(pan_x_dataset[\"de\"])\n",
        "pan_x_fr_encoded = encode_pan_x_dataset(pan_x_dataset[\"fr\"])\n",
        "pan_x_en_encoded = encode_pan_x_dataset(pan_x_dataset[\"en\"])\n",
        "pan_x_it_encoded = encode_pan_x_dataset(pan_x_dataset[\"it\"])"
      ],
      "metadata": {
        "colab": {
          "base_uri": "https://localhost:8080/",
          "height": 401,
          "referenced_widgets": [
            "1f80b92c501540f2a0ea3e1cf74b5c50",
            "a91df999d14946ddb9e187ce292ef63d",
            "6718e1245d034ef898041ceacab004b1",
            "7a0020a2c8d241f48268a276eeacf13e",
            "4d17c8c52da14874bf8437b2da7abebe",
            "fa1bc865450a4bc6b751520ca3cd7414",
            "c8670036e09344e2b911ba6efbfd5685",
            "542a5d1da3d241ac892c67ad5c13ed95",
            "520b84caf135407e8ca4b72a567ff031",
            "776e839f8cde4ecd822b1f34ec8aadeb",
            "7456fd59317249cfa29094b6c3d0105f",
            "0eebe62d68d843ce9e7bf0cdec6397d8",
            "044ca24a4df747d38c45d12e5e92d9bd",
            "7320098ac3414b10bb4a27cbb4adab4d",
            "0be3f6576bc14621967f215a528e8b82",
            "17cd2f9ba16042bc9c3fe5050c71c474",
            "35aff08d02734aa191a96c7eae29b306",
            "8f6e94d1295248c3b1609eb262b8e46a",
            "362333e98e7643a4a897f6976faa7d8d",
            "905549725b8c4775a07593c5308f73cb",
            "131f3b8b8fd44933b3524290f10621ab",
            "a2d17d4162c94c14b2d8e6162d5d1a68",
            "020726f2770044b8a0c413ccb74d9fdd",
            "2887cdd085504b59b29cc18fee8cd263",
            "e8033103a9cb4baf9e8848dd030f4505",
            "ec582a75a79a49889743af8cc58e9781",
            "165c9abed5d04d63a8f556523dc8f75b",
            "07b616f2e40c42acac5cea3028af38b9",
            "b81441b74435444d95ac3200501b58cf",
            "c305a9a37842403bab44ecbdbd58f498",
            "fbb438bf30bf45b48a59ce496e8d6ebd",
            "62ab8be674954905b7a863a7992d23a6",
            "5ae9d8796a2e4ee185058a8c39aebd4a",
            "bc60f4298c32408da22d32f100c4c47c",
            "ef55cd1006b34af0bbfa5b1f39bc3d72",
            "37f895a31726411991ff9ad817a53c51",
            "f037b525e2c2465b89d040da85fd9af1",
            "6a02a6ef18a943228ff707fbd0e3b4ef",
            "933fe71ab5c24d709c7b8e348e802f51",
            "dc97205407944af0b4c1f2f1a7a8c42b",
            "f7a7bdd0d6204f748dbe825ca9653723",
            "47d8a20ef0f04e4490a7bf133626943c",
            "76e3730409e94367aa5e4b46e5a846f3",
            "96a1a09b55dc4f1d8d9d330e79e4606c",
            "1567f1f1559d4756a1578f9335fdce78",
            "0c11c353775e4d02a191defde55bc872",
            "8c4deec6747a460e95ef302d5ce64456",
            "3d54f9dd54b540dea406464cf5f6dcc3",
            "6ec1cb32f9f34750b7141ffdf004a677",
            "eaa00416019e42b08fd6e550ae25bd6b",
            "7c29cbf7b5fc445b8018d24a84b6fea9",
            "34545b036ce44b42935ec66a99107e97",
            "77da0ada09914a8b8f3ef25f59889111",
            "3720518b642d4938be0fb3f9b938d1a7",
            "64a9ecf3a30d448c8bf61bc1825e0821",
            "f5f1e0ff925f466b9943f09d4f270bf5",
            "e41ef19bb2a44896a83558372108cd1d",
            "cb6569510999459fa767ee83f98b9484",
            "7b0ad74688c94b4ab665a18e2674d70f",
            "9c95726cb1154895a0d6e4a6aa4b313d",
            "4603b9397dac4ff1aec01323e73265dd",
            "8a129b3911bb4793833e0292c00a5b5b",
            "417fa33727e44df193a446d87b44ab46",
            "b1bfa670ec8d47f5b59a8905e4b496ca",
            "d7ac540dc928412b8bf59c2b27442375",
            "972d532208924d13a033e65a5c9b50a1",
            "7c29cbe6383741368a825e6615d15ea3",
            "6e13e9828d9f4a8b8595019a6917ab4c",
            "dc9ef04ce2ac475bbde09d018da0972f",
            "05af62a0be1343009607b3468a389c90",
            "1ec0af6373ee4eb6af418e3f651fc661",
            "979ad81ca85549228960d96efd679408",
            "2124fccc15c24e08879748061d9eb59e",
            "26a54d6d222c46da8b1655537d3c338b",
            "706a8907795b4ddcbeedd37785164dc4",
            "66e04033762f40d180c1fedf46c107fa",
            "ad45de5357b443cea7243c2734885339",
            "eb4d6769b80e4a35944525d59b224f7a",
            "ffb430ffb21f4a0e85a9887312ac707c",
            "2249eda0d3b443ddbcbe029efb00f73c",
            "022303c412aa41758603bcad11f02779",
            "9c7e448be8644d02b2c95f34697c0c88",
            "c8922c6f8fe6436088721fa0ed0553af",
            "13c65c5c5df7455e86baa80c7f206cfc",
            "8d3e56da9d2442f68c13357d9076215b",
            "6c1b2f019a10499b9d0bb2922752ed14",
            "cce63eda9caa49e9afde0b7f6c870d46",
            "6f9753f68df3459e8fa6fc1bd1ba1ea5",
            "2738e66695244ad195df96d417b80e0d",
            "d3ff6130b0e14b0fa03a10b0de6f83ad",
            "9279aadae6b84e9fb84bc47eb627c6b5",
            "46665938549c4bcb8f010ec00df8c165",
            "fe938a7d651b40cfb1f867d1f141fb63",
            "79b5f30bd81648b09f4e25d01cb193ee",
            "6448a7cbe99341a3a617e4f455dbec9b",
            "4a952e16861b42d2ac58e970761b6ef5",
            "2704db48fe034e2dad207bfcc1dab4e1",
            "ce4e403568be4fa6aaa2355d346227ed",
            "e59751dcc7b04a82bb0be625a35f3721",
            "56b3626c61e44cc0b7332483f19e1f97",
            "344eaa330e0b46408bc0f5783081a303",
            "22bd8020fd7c4da2a6a72ebcb604baa0",
            "5edf9af777a84cd4b250b3180cc91feb",
            "4466a84b33ed4c059fe21b257ebe928e",
            "0ecfbfaa9bc349f08acd03068074e85c",
            "eb20103b866f4df7bb6258f258c5db3e",
            "590f0660311644579c367c387e5250d3",
            "38434183bfe74de191989c4322e8afea",
            "8196dd56d8184e9588cdde3d221327b3",
            "13050feba7574e7d8f361c5f424d022c",
            "b4fc54a0368b4501acb69e6bcbb66532",
            "eba3b69171024d7d9568e4d0002c5d58",
            "3bf8fda6be3e42179afb511439642cf6",
            "cc7a5937d04648859930680e4a712102",
            "6aab9c5dc2184476bfd514c08d85e3c3",
            "9ffc7f36af714c85877649a2963ac02c",
            "8d5542c6a5db409897b314990a2db503",
            "6699195f901d4135b9bfbac3fdb79df2",
            "24665458bf7749a7bc878463a030446a",
            "7b95456ce4d54019aa45f1555276501b",
            "7026d47fd1954913a5b6793f777e95ba",
            "ede6b8c909064ed6a35b41b5337e7ff3",
            "e88c0c24a8d14a01a537ef48e495ca92",
            "648201f4519c432ab6c1863d2adff340",
            "b3ad978c067946a1a73096cdd7fbb28f",
            "5f899e854cb049b080f76854e9b30be6",
            "7cb7c18c245e486c94ca35b65e76c38c",
            "8ddaeef8b6e0473f91913f9f192f06c4",
            "b070da0936384366a363e10031936ac8",
            "21449e72162b417a92c0da591e9d0043",
            "a49f9cd3e4104431818b209f7b82a1ba",
            "fa8de76b302c4818ba6ba71f9cf95a84"
          ]
        },
        "id": "N-wZU_v0Tmeg",
        "outputId": "3a41337f-7875-473a-e282-e26fad8a96e8"
      },
      "execution_count": 11,
      "outputs": [
        {
          "output_type": "display_data",
          "data": {
            "text/plain": [
              "Map:   0%|          | 0/12000 [00:00<?, ? examples/s]"
            ],
            "application/vnd.jupyter.widget-view+json": {
              "version_major": 2,
              "version_minor": 0,
              "model_id": "1f80b92c501540f2a0ea3e1cf74b5c50"
            }
          },
          "metadata": {}
        },
        {
          "output_type": "display_data",
          "data": {
            "text/plain": [
              "Map:   0%|          | 0/6000 [00:00<?, ? examples/s]"
            ],
            "application/vnd.jupyter.widget-view+json": {
              "version_major": 2,
              "version_minor": 0,
              "model_id": "0eebe62d68d843ce9e7bf0cdec6397d8"
            }
          },
          "metadata": {}
        },
        {
          "output_type": "display_data",
          "data": {
            "text/plain": [
              "Map:   0%|          | 0/6000 [00:00<?, ? examples/s]"
            ],
            "application/vnd.jupyter.widget-view+json": {
              "version_major": 2,
              "version_minor": 0,
              "model_id": "020726f2770044b8a0c413ccb74d9fdd"
            }
          },
          "metadata": {}
        },
        {
          "output_type": "display_data",
          "data": {
            "text/plain": [
              "Map:   0%|          | 0/4000 [00:00<?, ? examples/s]"
            ],
            "application/vnd.jupyter.widget-view+json": {
              "version_major": 2,
              "version_minor": 0,
              "model_id": "bc60f4298c32408da22d32f100c4c47c"
            }
          },
          "metadata": {}
        },
        {
          "output_type": "display_data",
          "data": {
            "text/plain": [
              "Map:   0%|          | 0/2000 [00:00<?, ? examples/s]"
            ],
            "application/vnd.jupyter.widget-view+json": {
              "version_major": 2,
              "version_minor": 0,
              "model_id": "1567f1f1559d4756a1578f9335fdce78"
            }
          },
          "metadata": {}
        },
        {
          "output_type": "display_data",
          "data": {
            "text/plain": [
              "Map:   0%|          | 0/2000 [00:00<?, ? examples/s]"
            ],
            "application/vnd.jupyter.widget-view+json": {
              "version_major": 2,
              "version_minor": 0,
              "model_id": "f5f1e0ff925f466b9943f09d4f270bf5"
            }
          },
          "metadata": {}
        },
        {
          "output_type": "display_data",
          "data": {
            "text/plain": [
              "Map:   0%|          | 0/2000 [00:00<?, ? examples/s]"
            ],
            "application/vnd.jupyter.widget-view+json": {
              "version_major": 2,
              "version_minor": 0,
              "model_id": "7c29cbe6383741368a825e6615d15ea3"
            }
          },
          "metadata": {}
        },
        {
          "output_type": "display_data",
          "data": {
            "text/plain": [
              "Map:   0%|          | 0/1000 [00:00<?, ? examples/s]"
            ],
            "application/vnd.jupyter.widget-view+json": {
              "version_major": 2,
              "version_minor": 0,
              "model_id": "eb4d6769b80e4a35944525d59b224f7a"
            }
          },
          "metadata": {}
        },
        {
          "output_type": "display_data",
          "data": {
            "text/plain": [
              "Map:   0%|          | 0/1000 [00:00<?, ? examples/s]"
            ],
            "application/vnd.jupyter.widget-view+json": {
              "version_major": 2,
              "version_minor": 0,
              "model_id": "2738e66695244ad195df96d417b80e0d"
            }
          },
          "metadata": {}
        },
        {
          "output_type": "display_data",
          "data": {
            "text/plain": [
              "Map:   0%|          | 0/2000 [00:00<?, ? examples/s]"
            ],
            "application/vnd.jupyter.widget-view+json": {
              "version_major": 2,
              "version_minor": 0,
              "model_id": "56b3626c61e44cc0b7332483f19e1f97"
            }
          },
          "metadata": {}
        },
        {
          "output_type": "display_data",
          "data": {
            "text/plain": [
              "Map:   0%|          | 0/1000 [00:00<?, ? examples/s]"
            ],
            "application/vnd.jupyter.widget-view+json": {
              "version_major": 2,
              "version_minor": 0,
              "model_id": "b4fc54a0368b4501acb69e6bcbb66532"
            }
          },
          "metadata": {}
        },
        {
          "output_type": "display_data",
          "data": {
            "text/plain": [
              "Map:   0%|          | 0/1000 [00:00<?, ? examples/s]"
            ],
            "application/vnd.jupyter.widget-view+json": {
              "version_major": 2,
              "version_minor": 0,
              "model_id": "ede6b8c909064ed6a35b41b5337e7ff3"
            }
          },
          "metadata": {}
        }
      ]
    },
    {
      "cell_type": "markdown",
      "source": [
        "# Evaluation Metrics\n",
        "\n",
        "Use seqeval library to get precision, recall, $F_1$ score while training"
      ],
      "metadata": {
        "id": "86-jJbzoT99d"
      }
    },
    {
      "cell_type": "code",
      "source": [
        "from seqeval.metrics import classification_report"
      ],
      "metadata": {
        "id": "ZHV-VZaB6ftt"
      },
      "execution_count": 12,
      "outputs": []
    },
    {
      "cell_type": "code",
      "source": [
        "# Take model ouptut and convert to list for seqeval while also ignoring label for consecutive subwords\n",
        "\n",
        "import numpy as np\n",
        "\n",
        "def convert_predictions_to_list(predictions, label_ids):\n",
        "  preds = np.argmax(predictions, axis=2)\n",
        "\n",
        "  batch_size, seq_len = preds.shape\n",
        "\n",
        "  labels_list = []\n",
        "  predictions_list = []\n",
        "\n",
        "  for batch_index in range(batch_size):\n",
        "    sample_predictions = []\n",
        "    sample_labels = []\n",
        "\n",
        "    for seq_idx in range(seq_len):\n",
        "      if label_ids[batch_index, seq_idx] != -100:\n",
        "        sample_predictions.append(index_to_tag[preds[batch_index][seq_idx]])\n",
        "        sample_labels.append(index_to_tag[label_ids[batch_index][seq_idx]])\n",
        "\n",
        "    predictions_list.append(sample_predictions)\n",
        "    labels_list.append(sample_labels)\n",
        "\n",
        "  return predictions_list, labels_list"
      ],
      "metadata": {
        "id": "-MpyKvR8UDAB"
      },
      "execution_count": 13,
      "outputs": []
    },
    {
      "cell_type": "markdown",
      "source": [
        "# Fine Tune on Multiple Languages At Once"
      ],
      "metadata": {
        "id": "Adi7rBac3tj-"
      }
    },
    {
      "cell_type": "markdown",
      "source": [
        "## Compute Metrics"
      ],
      "metadata": {
        "id": "MQUi3HCh89av"
      }
    },
    {
      "cell_type": "code",
      "source": [
        "# So model can compute f1 score\n",
        "\n",
        "from seqeval.metrics import f1_score\n",
        "\n",
        "def compute_metrics(eval_pred):\n",
        "    predictions, labels = convert_predictions_to_list(eval_pred.predictions, eval_pred.label_ids)\n",
        "    return {\"f1\": f1_score(labels, predictions)}"
      ],
      "metadata": {
        "id": "n-NqQm6v8iah"
      },
      "execution_count": 14,
      "outputs": []
    },
    {
      "cell_type": "markdown",
      "source": [
        "## Data Collator\n",
        "\n",
        "Pad each input sequence to the largest sequence length in a batch"
      ],
      "metadata": {
        "id": "FMyGVGJm9A2g"
      }
    },
    {
      "cell_type": "code",
      "source": [
        "from transformers import DataCollatorForTokenClassification\n",
        "\n",
        "data_collator = DataCollatorForTokenClassification(tokenizer=tokenizer)"
      ],
      "metadata": {
        "id": "CuP4abJT9HEa"
      },
      "execution_count": 15,
      "outputs": []
    },
    {
      "cell_type": "markdown",
      "source": [
        "## Model Init\n",
        "\n",
        "To load untrained model"
      ],
      "metadata": {
        "id": "TvNqUNCO9Y5N"
      }
    },
    {
      "cell_type": "code",
      "source": [
        "import torch\n",
        "from transformers import AutoModelForTokenClassification\n",
        "\n",
        "device = torch.device(\"cuda\") if torch.cuda.is_available() else torch.device(\"cpu\") # Use CPU if available\n",
        "\n",
        "\n",
        "def model_init():\n",
        "    return AutoModelForTokenClassification.from_pretrained(xlm_r_model, config=xlm_r_config).to(device)"
      ],
      "metadata": {
        "id": "4_ja6Lgr9bHE"
      },
      "execution_count": 16,
      "outputs": []
    },
    {
      "cell_type": "markdown",
      "source": [
        "## Concatenate language datasets"
      ],
      "metadata": {
        "id": "ngOg1ppX-DK1"
      }
    },
    {
      "cell_type": "code",
      "source": [
        "from datasets import concatenate_datasets\n",
        "\n",
        "def concatenate_splits(langs_data):\n",
        "  multi_lang = DatasetDict()\n",
        "\n",
        "  for split in langs_data[0].keys():\n",
        "    # Convert generator expression to a list before passing it to concatenate_datasets\n",
        "    datasets_to_concatenate = [lang[split] for lang in langs_data]\n",
        "    multi_lang[split] = concatenate_datasets(datasets_to_concatenate).shuffle()\n",
        "\n",
        "  return multi_lang"
      ],
      "metadata": {
        "id": "_43ty4S13wZE"
      },
      "execution_count": 17,
      "outputs": []
    },
    {
      "cell_type": "code",
      "source": [
        "langs_encoded = []\n",
        "\n",
        "for lang in langs_used:\n",
        "  langs_encoded.append(encode_pan_x_dataset(pan_x_dataset[lang]))\n",
        "\n",
        "multi_lang_encoded = concatenate_splits(langs_encoded)"
      ],
      "metadata": {
        "colab": {
          "base_uri": "https://localhost:8080/",
          "height": 49,
          "referenced_widgets": [
            "e1d4665f160948e59ddc5f15f881895f",
            "3e113cbd58ee4abda5b3163d81f83832",
            "435e138cfb0a45c89ebce689a391ae54",
            "b998eae1f1a144c2bd54a21ad969a3c3",
            "e5fefdacedb44405b0eb1fba5b5a3a4f",
            "4bf4cc2f546e4f4e80b0a6647de795f7",
            "4245a332be164f59b336ce8f23754e90",
            "5fd2e5057d4a4eab8299cb34430902e0",
            "c285c84ed96d4026804c6f4fe30643b2",
            "f4914a3c28b94d24b7973984b1d4c247",
            "3ee9c57072284531b8895379d945ea46"
          ]
        },
        "id": "kDRkhjxM6r78",
        "outputId": "f8033538-d15f-461b-aabe-f7767698915b"
      },
      "execution_count": 18,
      "outputs": [
        {
          "output_type": "display_data",
          "data": {
            "text/plain": [
              "Map:   0%|          | 0/12000 [00:00<?, ? examples/s]"
            ],
            "application/vnd.jupyter.widget-view+json": {
              "version_major": 2,
              "version_minor": 0,
              "model_id": "e1d4665f160948e59ddc5f15f881895f"
            }
          },
          "metadata": {}
        }
      ]
    },
    {
      "cell_type": "markdown",
      "source": [
        "## Set Hyper-parameters"
      ],
      "metadata": {
        "id": "GkZ7A8VD-HDj"
      }
    },
    {
      "cell_type": "code",
      "source": [
        "from transformers import TrainingArguments\n",
        "\n",
        "batch_size = 64\n",
        "logging_steps = len(multi_lang_encoded[\"train\"]) # batch_size\n",
        "model_name = f\"{xlm_r_model}-finetuned-panx-de-fr-en-it\"\n",
        "\n",
        "training_args = TrainingArguments(output_dir=model_name,\n",
        "                                  num_train_epochs=3,\n",
        "                                  per_device_train_batch_size=batch_size,\n",
        "                                  per_device_eval_batch_size=batch_size,\n",
        "                                  weight_decay=0.01,\n",
        "                                  eval_strategy=\"epoch\",\n",
        "                                  save_strategy=\"epoch\", # Save model at each epoch\n",
        "                                  disable_tqdm=False,\n",
        "                                  logging_steps=logging_steps,\n",
        "                                  log_level = \"error\",\n",
        "                                  report_to=\"none\", # Disable WandB logging\n",
        "                                  load_best_model_at_end=True,\n",
        "                                  )"
      ],
      "metadata": {
        "id": "kjTxAgR07Cg4"
      },
      "execution_count": 19,
      "outputs": []
    },
    {
      "cell_type": "markdown",
      "source": [
        "## Train Model"
      ],
      "metadata": {
        "id": "BAhOsXg9-JNW"
      }
    },
    {
      "cell_type": "code",
      "source": [
        "from transformers import Trainer\n",
        "\n",
        "trainer = Trainer(model_init=model_init,\n",
        "                  args=training_args,\n",
        "                  data_collator=data_collator,\n",
        "                  compute_metrics=compute_metrics,\n",
        "                  train_dataset=multi_lang_encoded[\"train\"],\n",
        "                  eval_dataset=multi_lang_encoded[\"validation\"],\n",
        "                  )\n",
        "\n",
        "trainer.train()"
      ],
      "metadata": {
        "colab": {
          "base_uri": "https://localhost:8080/",
          "height": 294,
          "referenced_widgets": [
            "291399199e20427991ce5b0e62b1fc72",
            "03636783ef964b72af3e8fafe4211049",
            "0b0d879b06ba4d02a58718be77b5f0fe",
            "236f57a8acb8456db9f3299d3b9ffefd",
            "ae6aadf15f2c403bbe8c3378f86e3b67",
            "a3751de7751d4318895f2b5fedf4be45",
            "ce7d41d08c1f424ea96174ccb7df449a",
            "f69288c1d0e3436da81b1c0140311dea",
            "87d8b3e03878417eb4e8d9ddabd70e9b",
            "f35f2d61aeda4dc49372adb4d54fb6aa",
            "221a617fe2214e12843a3218085c7107"
          ]
        },
        "id": "oDlNd9CR7ngG",
        "outputId": "0431888d-958c-491d-bd56-c0f6296787bb"
      },
      "execution_count": 20,
      "outputs": [
        {
          "output_type": "stream",
          "name": "stderr",
          "text": [
            "Xet Storage is enabled for this repo, but the 'hf_xet' package is not installed. Falling back to regular HTTP download. For better performance, install the package with: `pip install huggingface_hub[hf_xet]` or `pip install hf_xet`\n",
            "WARNING:huggingface_hub.file_download:Xet Storage is enabled for this repo, but the 'hf_xet' package is not installed. Falling back to regular HTTP download. For better performance, install the package with: `pip install huggingface_hub[hf_xet]` or `pip install hf_xet`\n"
          ]
        },
        {
          "output_type": "display_data",
          "data": {
            "text/plain": [
              "model.safetensors:   0%|          | 0.00/1.12G [00:00<?, ?B/s]"
            ],
            "application/vnd.jupyter.widget-view+json": {
              "version_major": 2,
              "version_minor": 0,
              "model_id": "291399199e20427991ce5b0e62b1fc72"
            }
          },
          "metadata": {}
        },
        {
          "output_type": "display_data",
          "data": {
            "text/plain": [
              "<IPython.core.display.HTML object>"
            ],
            "text/html": [
              "\n",
              "    <div>\n",
              "      \n",
              "      <progress value='939' max='939' style='width:300px; height:20px; vertical-align: middle;'></progress>\n",
              "      [939/939 13:07, Epoch 3/3]\n",
              "    </div>\n",
              "    <table border=\"1\" class=\"dataframe\">\n",
              "  <thead>\n",
              " <tr style=\"text-align: left;\">\n",
              "      <th>Epoch</th>\n",
              "      <th>Training Loss</th>\n",
              "      <th>Validation Loss</th>\n",
              "      <th>F1</th>\n",
              "    </tr>\n",
              "  </thead>\n",
              "  <tbody>\n",
              "    <tr>\n",
              "      <td>1</td>\n",
              "      <td>No log</td>\n",
              "      <td>0.247036</td>\n",
              "      <td>0.792058</td>\n",
              "    </tr>\n",
              "    <tr>\n",
              "      <td>2</td>\n",
              "      <td>No log</td>\n",
              "      <td>0.216979</td>\n",
              "      <td>0.831841</td>\n",
              "    </tr>\n",
              "    <tr>\n",
              "      <td>3</td>\n",
              "      <td>No log</td>\n",
              "      <td>0.214773</td>\n",
              "      <td>0.838026</td>\n",
              "    </tr>\n",
              "  </tbody>\n",
              "</table><p>"
            ]
          },
          "metadata": {}
        },
        {
          "output_type": "execute_result",
          "data": {
            "text/plain": [
              "TrainOutput(global_step=939, training_loss=0.24677196173622204, metrics={'train_runtime': 789.2175, 'train_samples_per_second': 76.025, 'train_steps_per_second': 1.19, 'total_flos': 1569680571436032.0, 'train_loss': 0.24677196173622204, 'epoch': 3.0})"
            ]
          },
          "metadata": {},
          "execution_count": 20
        }
      ]
    },
    {
      "cell_type": "markdown",
      "source": [
        "## Evaluate Model"
      ],
      "metadata": {
        "id": "T66ZjUTYIxQD"
      }
    },
    {
      "cell_type": "code",
      "source": [
        "def get_f1_score(trainer, eval_dataset):\n",
        "  return trainer.predict(eval_dataset).metrics[\"test_f1\"]\n",
        "\n",
        "\n",
        "f1_scores = defaultdict(dict)\n",
        "\n",
        "for idx, lang in enumerate(langs_used):\n",
        "  f1_scores[\"all\"][lang] = get_f1_score(trainer, langs_encoded[idx][\"test\"])\n",
        "\n",
        "# scores_data = {\"all\": f1_scores}\n",
        "\n",
        "f1_scores_df = pd.DataFrame.from_dict(f1_scores, orient=\"index\").round(4)\n",
        "f1_scores_df.rename_axis(index=\"Fine-tuned on\", columns=\"Evaluated on\", inplace=True)\n",
        "\n",
        "f1_scores_df"
      ],
      "metadata": {
        "colab": {
          "base_uri": "https://localhost:8080/",
          "height": 112
        },
        "id": "FI-QrdyzIyte",
        "outputId": "b8f6e94d-001a-4d93-87fc-c4bb264e4a0a"
      },
      "execution_count": 21,
      "outputs": [
        {
          "output_type": "display_data",
          "data": {
            "text/plain": [
              "<IPython.core.display.HTML object>"
            ],
            "text/html": []
          },
          "metadata": {}
        },
        {
          "output_type": "display_data",
          "data": {
            "text/plain": [
              "<IPython.core.display.HTML object>"
            ],
            "text/html": []
          },
          "metadata": {}
        },
        {
          "output_type": "display_data",
          "data": {
            "text/plain": [
              "<IPython.core.display.HTML object>"
            ],
            "text/html": []
          },
          "metadata": {}
        },
        {
          "output_type": "display_data",
          "data": {
            "text/plain": [
              "<IPython.core.display.HTML object>"
            ],
            "text/html": []
          },
          "metadata": {}
        },
        {
          "output_type": "execute_result",
          "data": {
            "text/plain": [
              "Evaluated on       de      fr      en      it\n",
              "Fine-tuned on                                \n",
              "all            0.8372  0.8657  0.7992  0.8545"
            ],
            "text/html": [
              "\n",
              "  <div id=\"df-fae74a0b-d35b-4bd4-a85e-c0224fcda19f\" class=\"colab-df-container\">\n",
              "    <div>\n",
              "<style scoped>\n",
              "    .dataframe tbody tr th:only-of-type {\n",
              "        vertical-align: middle;\n",
              "    }\n",
              "\n",
              "    .dataframe tbody tr th {\n",
              "        vertical-align: top;\n",
              "    }\n",
              "\n",
              "    .dataframe thead th {\n",
              "        text-align: right;\n",
              "    }\n",
              "</style>\n",
              "<table border=\"1\" class=\"dataframe\">\n",
              "  <thead>\n",
              "    <tr style=\"text-align: right;\">\n",
              "      <th>Evaluated on</th>\n",
              "      <th>de</th>\n",
              "      <th>fr</th>\n",
              "      <th>en</th>\n",
              "      <th>it</th>\n",
              "    </tr>\n",
              "    <tr>\n",
              "      <th>Fine-tuned on</th>\n",
              "      <th></th>\n",
              "      <th></th>\n",
              "      <th></th>\n",
              "      <th></th>\n",
              "    </tr>\n",
              "  </thead>\n",
              "  <tbody>\n",
              "    <tr>\n",
              "      <th>all</th>\n",
              "      <td>0.8372</td>\n",
              "      <td>0.8657</td>\n",
              "      <td>0.7992</td>\n",
              "      <td>0.8545</td>\n",
              "    </tr>\n",
              "  </tbody>\n",
              "</table>\n",
              "</div>\n",
              "    <div class=\"colab-df-buttons\">\n",
              "\n",
              "  <div class=\"colab-df-container\">\n",
              "    <button class=\"colab-df-convert\" onclick=\"convertToInteractive('df-fae74a0b-d35b-4bd4-a85e-c0224fcda19f')\"\n",
              "            title=\"Convert this dataframe to an interactive table.\"\n",
              "            style=\"display:none;\">\n",
              "\n",
              "  <svg xmlns=\"http://www.w3.org/2000/svg\" height=\"24px\" viewBox=\"0 -960 960 960\">\n",
              "    <path d=\"M120-120v-720h720v720H120Zm60-500h600v-160H180v160Zm220 220h160v-160H400v160Zm0 220h160v-160H400v160ZM180-400h160v-160H180v160Zm440 0h160v-160H620v160ZM180-180h160v-160H180v160Zm440 0h160v-160H620v160Z\"/>\n",
              "  </svg>\n",
              "    </button>\n",
              "\n",
              "  <style>\n",
              "    .colab-df-container {\n",
              "      display:flex;\n",
              "      gap: 12px;\n",
              "    }\n",
              "\n",
              "    .colab-df-convert {\n",
              "      background-color: #E8F0FE;\n",
              "      border: none;\n",
              "      border-radius: 50%;\n",
              "      cursor: pointer;\n",
              "      display: none;\n",
              "      fill: #1967D2;\n",
              "      height: 32px;\n",
              "      padding: 0 0 0 0;\n",
              "      width: 32px;\n",
              "    }\n",
              "\n",
              "    .colab-df-convert:hover {\n",
              "      background-color: #E2EBFA;\n",
              "      box-shadow: 0px 1px 2px rgba(60, 64, 67, 0.3), 0px 1px 3px 1px rgba(60, 64, 67, 0.15);\n",
              "      fill: #174EA6;\n",
              "    }\n",
              "\n",
              "    .colab-df-buttons div {\n",
              "      margin-bottom: 4px;\n",
              "    }\n",
              "\n",
              "    [theme=dark] .colab-df-convert {\n",
              "      background-color: #3B4455;\n",
              "      fill: #D2E3FC;\n",
              "    }\n",
              "\n",
              "    [theme=dark] .colab-df-convert:hover {\n",
              "      background-color: #434B5C;\n",
              "      box-shadow: 0px 1px 3px 1px rgba(0, 0, 0, 0.15);\n",
              "      filter: drop-shadow(0px 1px 2px rgba(0, 0, 0, 0.3));\n",
              "      fill: #FFFFFF;\n",
              "    }\n",
              "  </style>\n",
              "\n",
              "    <script>\n",
              "      const buttonEl =\n",
              "        document.querySelector('#df-fae74a0b-d35b-4bd4-a85e-c0224fcda19f button.colab-df-convert');\n",
              "      buttonEl.style.display =\n",
              "        google.colab.kernel.accessAllowed ? 'block' : 'none';\n",
              "\n",
              "      async function convertToInteractive(key) {\n",
              "        const element = document.querySelector('#df-fae74a0b-d35b-4bd4-a85e-c0224fcda19f');\n",
              "        const dataTable =\n",
              "          await google.colab.kernel.invokeFunction('convertToInteractive',\n",
              "                                                    [key], {});\n",
              "        if (!dataTable) return;\n",
              "\n",
              "        const docLinkHtml = 'Like what you see? Visit the ' +\n",
              "          '<a target=\"_blank\" href=https://colab.research.google.com/notebooks/data_table.ipynb>data table notebook</a>'\n",
              "          + ' to learn more about interactive tables.';\n",
              "        element.innerHTML = '';\n",
              "        dataTable['output_type'] = 'display_data';\n",
              "        await google.colab.output.renderOutput(dataTable, element);\n",
              "        const docLink = document.createElement('div');\n",
              "        docLink.innerHTML = docLinkHtml;\n",
              "        element.appendChild(docLink);\n",
              "      }\n",
              "    </script>\n",
              "  </div>\n",
              "\n",
              "\n",
              "  <div id=\"id_6ddfa7b3-b72a-4d86-884c-752620406436\">\n",
              "    <style>\n",
              "      .colab-df-generate {\n",
              "        background-color: #E8F0FE;\n",
              "        border: none;\n",
              "        border-radius: 50%;\n",
              "        cursor: pointer;\n",
              "        display: none;\n",
              "        fill: #1967D2;\n",
              "        height: 32px;\n",
              "        padding: 0 0 0 0;\n",
              "        width: 32px;\n",
              "      }\n",
              "\n",
              "      .colab-df-generate:hover {\n",
              "        background-color: #E2EBFA;\n",
              "        box-shadow: 0px 1px 2px rgba(60, 64, 67, 0.3), 0px 1px 3px 1px rgba(60, 64, 67, 0.15);\n",
              "        fill: #174EA6;\n",
              "      }\n",
              "\n",
              "      [theme=dark] .colab-df-generate {\n",
              "        background-color: #3B4455;\n",
              "        fill: #D2E3FC;\n",
              "      }\n",
              "\n",
              "      [theme=dark] .colab-df-generate:hover {\n",
              "        background-color: #434B5C;\n",
              "        box-shadow: 0px 1px 3px 1px rgba(0, 0, 0, 0.15);\n",
              "        filter: drop-shadow(0px 1px 2px rgba(0, 0, 0, 0.3));\n",
              "        fill: #FFFFFF;\n",
              "      }\n",
              "    </style>\n",
              "    <button class=\"colab-df-generate\" onclick=\"generateWithVariable('f1_scores_df')\"\n",
              "            title=\"Generate code using this dataframe.\"\n",
              "            style=\"display:none;\">\n",
              "\n",
              "  <svg xmlns=\"http://www.w3.org/2000/svg\" height=\"24px\"viewBox=\"0 0 24 24\"\n",
              "       width=\"24px\">\n",
              "    <path d=\"M7,19H8.4L18.45,9,17,7.55,7,17.6ZM5,21V16.75L18.45,3.32a2,2,0,0,1,2.83,0l1.4,1.43a1.91,1.91,0,0,1,.58,1.4,1.91,1.91,0,0,1-.58,1.4L9.25,21ZM18.45,9,17,7.55Zm-12,3A5.31,5.31,0,0,0,4.9,8.1,5.31,5.31,0,0,0,1,6.5,5.31,5.31,0,0,0,4.9,4.9,5.31,5.31,0,0,0,6.5,1,5.31,5.31,0,0,0,8.1,4.9,5.31,5.31,0,0,0,12,6.5,5.46,5.46,0,0,0,6.5,12Z\"/>\n",
              "  </svg>\n",
              "    </button>\n",
              "    <script>\n",
              "      (() => {\n",
              "      const buttonEl =\n",
              "        document.querySelector('#id_6ddfa7b3-b72a-4d86-884c-752620406436 button.colab-df-generate');\n",
              "      buttonEl.style.display =\n",
              "        google.colab.kernel.accessAllowed ? 'block' : 'none';\n",
              "\n",
              "      buttonEl.onclick = () => {\n",
              "        google.colab.notebook.generateWithVariable('f1_scores_df');\n",
              "      }\n",
              "      })();\n",
              "    </script>\n",
              "  </div>\n",
              "\n",
              "    </div>\n",
              "  </div>\n"
            ],
            "application/vnd.google.colaboratory.intrinsic+json": {
              "type": "dataframe",
              "variable_name": "f1_scores_df",
              "summary": "{\n  \"name\": \"f1_scores_df\",\n  \"rows\": 1,\n  \"fields\": [\n    {\n      \"column\": \"Fine-tuned on\",\n      \"properties\": {\n        \"dtype\": \"string\",\n        \"num_unique_values\": 1,\n        \"samples\": [\n          \"all\"\n        ],\n        \"semantic_type\": \"\",\n        \"description\": \"\"\n      }\n    },\n    {\n      \"column\": \"de\",\n      \"properties\": {\n        \"dtype\": \"number\",\n        \"std\": null,\n        \"min\": 0.8372,\n        \"max\": 0.8372,\n        \"num_unique_values\": 1,\n        \"samples\": [\n          0.8372\n        ],\n        \"semantic_type\": \"\",\n        \"description\": \"\"\n      }\n    },\n    {\n      \"column\": \"fr\",\n      \"properties\": {\n        \"dtype\": \"number\",\n        \"std\": null,\n        \"min\": 0.8657,\n        \"max\": 0.8657,\n        \"num_unique_values\": 1,\n        \"samples\": [\n          0.8657\n        ],\n        \"semantic_type\": \"\",\n        \"description\": \"\"\n      }\n    },\n    {\n      \"column\": \"en\",\n      \"properties\": {\n        \"dtype\": \"number\",\n        \"std\": null,\n        \"min\": 0.7992,\n        \"max\": 0.7992,\n        \"num_unique_values\": 1,\n        \"samples\": [\n          0.7992\n        ],\n        \"semantic_type\": \"\",\n        \"description\": \"\"\n      }\n    },\n    {\n      \"column\": \"it\",\n      \"properties\": {\n        \"dtype\": \"number\",\n        \"std\": null,\n        \"min\": 0.8545,\n        \"max\": 0.8545,\n        \"num_unique_values\": 1,\n        \"samples\": [\n          0.8545\n        ],\n        \"semantic_type\": \"\",\n        \"description\": \"\"\n      }\n    }\n  ]\n}"
            }
          },
          "metadata": {},
          "execution_count": 21
        }
      ]
    },
    {
      "cell_type": "markdown",
      "source": [
        "## Upload model to Hugging Face Hub"
      ],
      "metadata": {
        "id": "jK5y4Z1uCa1T"
      }
    },
    {
      "cell_type": "code",
      "source": [
        "from huggingface_hub import notebook_login\n",
        "\n",
        "notebook_login() # Login to account"
      ],
      "metadata": {
        "colab": {
          "base_uri": "https://localhost:8080/",
          "height": 17,
          "referenced_widgets": [
            "ff660d2e9c9444e68b942bd51ada2b7d",
            "9f2ce2ee94254c9da03bcd771dc304bb",
            "1a52c760eb364e3ea07973fe47a28f61",
            "44152e6e619d491f83dbba29793b35be",
            "10e8a6ff12c5409fa330517e82660d7f",
            "7f9638c241f746d58b54a897c22d9f08",
            "5b85f79b206846e6868fa569fac8adee",
            "709eb0899b084c83bbfae35838bf5e28",
            "704759c7ba5f4b8e8409da5f5ccca6a8",
            "9eadd29e069749a1b440529326e06301",
            "0790b3127b7c41848c3ee5da60506b3a",
            "0d9b7f0e5a8249fdafae1df488430d83",
            "01eb4a448b3a485da410cddf6e73b2a2",
            "c00731a2561044d5906b1eeba05006b1",
            "1d7a4ad2d5114f4d9791fc3fea729b3c",
            "63299f9e8335478e852ddb993ea5083d",
            "00b055167f004f4082ee76a22861817a",
            "4642f84d0d6d48038c9331f31f228001",
            "bcfc56699c1a4da29f70f9b76f283924",
            "fb6ffc14c31b4672b969921a2e09e15f"
          ]
        },
        "id": "Bl6FHUbuCdjd",
        "outputId": "c57c2c4d-1a26-493f-a607-bb54b530ef88"
      },
      "execution_count": 22,
      "outputs": [
        {
          "output_type": "display_data",
          "data": {
            "text/plain": [
              "VBox(children=(HTML(value='<center> <img\\nsrc=https://huggingface.co/front/assets/huggingface_logo-noborder.sv…"
            ],
            "application/vnd.jupyter.widget-view+json": {
              "version_major": 2,
              "version_minor": 0,
              "model_id": "ff660d2e9c9444e68b942bd51ada2b7d"
            }
          },
          "metadata": {}
        }
      ]
    },
    {
      "cell_type": "code",
      "source": [
        "trainer.push_to_hub(commit_message=\"Train multi-lingual model in German, French, English and Italian\")"
      ],
      "metadata": {
        "colab": {
          "base_uri": "https://localhost:8080/",
          "height": 268,
          "referenced_widgets": [
            "62204b0893204fa0b9bedd636078f770",
            "9831fb397b034edbac158a17f01cbc7a",
            "6a8fea78ef6c4e838733fb31268afb64",
            "c634aaadb94c49e090b7ee9e4a575599",
            "e74a4591e854444cbb7e9f4c019754cf",
            "a0187cea0a8c4c669f699b3fe5e53c16",
            "12b2caa7401d41289223c751bfb58ab1",
            "f515ba6b98bc4f4b86579ea2d3deff79",
            "96bdc22692eb4858829ded9313f11d21",
            "3af6a98c8d1546c4a50011119acaff5f",
            "04e4bb9144804cc3a5377a23e9429793",
            "405d6c0a9b604255a0b1e35b0f5a4fb4",
            "45388d9abb7b400c8ad15f4f972f8634",
            "513c1e7c599547bcaa87bf8327e908e5",
            "4493af8e4b7343d799cbbc8b01c7fffa",
            "28550eb2c6f34c8d8f9805c2a9cb2570",
            "5448c30a4b7e401da7e55252bd174414",
            "ed4cbd4cd6e1472bb22e02d0d6fe78ed",
            "612eec24f99547958203096d7e90c176",
            "ff7adcbf97994b0ba649abd757bf425c",
            "8184af0e781847619209b7fdd153572c",
            "8f8a8ba8ca6344efae4f3759b99d331c",
            "a82c8122a877418e9a3db5d9c59a6cfe",
            "862a4f31e7ad43c49591ec84272c5863",
            "3dd140f0ba2a4cbf942ea5bfd53ba62e",
            "7980c8beedef47d495cacccdbdc9ede8",
            "cc5166b4d56b422fb2d0100ed14acfe9",
            "c1395703f0a74609a16107932d01884a",
            "7e514676e4834d53bff3286488ef4bbf",
            "4a1e558a29494959a07c9598847c448b",
            "3430716a876e4b5497eaff9deca07955",
            "b956a07803124ed5a27bbc5932b000ef",
            "659db8cf76694744b9e16421c19a9f93",
            "b7b9b4a7061849358207bb1472cb0534",
            "4dda3e0bc3114ccfbae71fb63a697334",
            "2c7c7c5b45344da99c3d7c2b81a14299",
            "f9946d1e75a14b60a3eb1d156e582537",
            "675f10c9f8374f5b9a049b8b39ade103",
            "0731925b1b8a47a9945cb558b609ef44",
            "45e9667f20bc4dbeac940de7bc4698dd",
            "c4a0bd3a30eb49e4a7475af75e40ccba",
            "b6beaa5e7f5b47d5b78251c11e757ba7",
            "5dd3616ff02344baa965026f7220f08d",
            "c5ab35d106204aa780e212677549f29b",
            "60f3c2ca5e124f7d8fe1f162fb7a6671",
            "1accfbbe7b6d42109712ccf02bfc2ba6",
            "94bd47d5eca54d4ea1175595ca829a77",
            "765ccbcae4484db1844024f5300e826c",
            "33e7425406d9434a88f53fe3e44c123d",
            "3bbf4b5154d74541b34f2851ef4df7a9",
            "95f4054a13a44733a1a63e7a1045b044",
            "bf6c173430444042a3b0279afd26eef4",
            "2f030e494f2e4f5d849a0c592b7eeeca",
            "16bde6f3fddf4a55893868cafa7368db",
            "b83bada047c54d69b4b363ce4781ffa4"
          ]
        },
        "id": "q-hiCRVVCgKl",
        "outputId": "50b808d1-569a-493d-b413-7752cf3b60a1"
      },
      "execution_count": 23,
      "outputs": [
        {
          "output_type": "display_data",
          "data": {
            "text/plain": [
              "Upload 4 LFS files:   0%|          | 0/4 [00:00<?, ?it/s]"
            ],
            "application/vnd.jupyter.widget-view+json": {
              "version_major": 2,
              "version_minor": 0,
              "model_id": "62204b0893204fa0b9bedd636078f770"
            }
          },
          "metadata": {}
        },
        {
          "output_type": "display_data",
          "data": {
            "text/plain": [
              "model.safetensors:   0%|          | 0.00/1.11G [00:00<?, ?B/s]"
            ],
            "application/vnd.jupyter.widget-view+json": {
              "version_major": 2,
              "version_minor": 0,
              "model_id": "405d6c0a9b604255a0b1e35b0f5a4fb4"
            }
          },
          "metadata": {}
        },
        {
          "output_type": "display_data",
          "data": {
            "text/plain": [
              "training_args.bin:   0%|          | 0.00/5.37k [00:00<?, ?B/s]"
            ],
            "application/vnd.jupyter.widget-view+json": {
              "version_major": 2,
              "version_minor": 0,
              "model_id": "a82c8122a877418e9a3db5d9c59a6cfe"
            }
          },
          "metadata": {}
        },
        {
          "output_type": "display_data",
          "data": {
            "text/plain": [
              "sentencepiece.bpe.model:   0%|          | 0.00/5.07M [00:00<?, ?B/s]"
            ],
            "application/vnd.jupyter.widget-view+json": {
              "version_major": 2,
              "version_minor": 0,
              "model_id": "b7b9b4a7061849358207bb1472cb0534"
            }
          },
          "metadata": {}
        },
        {
          "output_type": "display_data",
          "data": {
            "text/plain": [
              "tokenizer.json:   0%|          | 0.00/17.1M [00:00<?, ?B/s]"
            ],
            "application/vnd.jupyter.widget-view+json": {
              "version_major": 2,
              "version_minor": 0,
              "model_id": "60f3c2ca5e124f7d8fe1f162fb7a6671"
            }
          },
          "metadata": {}
        },
        {
          "output_type": "execute_result",
          "data": {
            "text/plain": [
              "CommitInfo(commit_url='https://huggingface.co/avanishd/xlm-roberta-base-finetuned-panx-de-fr-en-it/commit/b0d2b84cddd856a0f031d58d75b5d554d930c778', commit_message='Train multi-lingual model in German, French, English and Italian', commit_description='', oid='b0d2b84cddd856a0f031d58d75b5d554d930c778', pr_url=None, repo_url=RepoUrl('https://huggingface.co/avanishd/xlm-roberta-base-finetuned-panx-de-fr-en-it', endpoint='https://huggingface.co', repo_type='model', repo_id='avanishd/xlm-roberta-base-finetuned-panx-de-fr-en-it'), pr_revision=None, pr_num=None)"
            ],
            "application/vnd.google.colaboratory.intrinsic+json": {
              "type": "string"
            }
          },
          "metadata": {},
          "execution_count": 23
        }
      ]
    }
  ]
}
